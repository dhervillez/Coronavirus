{
 "cells": [
  {
   "cell_type": "markdown",
   "metadata": {},
   "source": [
    "# Table of content:\n",
    "* [1 - Import library](#import_library)\n",
    "* [2 - Import and wrangle data](#import_data)\n",
    "    * [2.1 - Import confirmed and deaths](#import_CSSE_data)\n",
    "    * [2.2 - Enrich with cartopy](#enrich_with_cartopy)\n",
    "    * [2.3 - Smooth, derive and more](#smooth-derive)\n",
    "    * [2.4 - Enrich with patient zero and confinement dates](#patient_zero_confinement_dates)\n",
    "    * [2.5 - Display some data](#display_data)\n",
    "* [3 - Data analysis](#data_analysis)\n",
    "    * [3.1 -  Geographical evolution in the world](#geographical_evolution)\n",
    "    * [3.2 - Analysis by continent](#analysis_continent)\n",
    "    * [3.3 - Analysis by country](#analysis_country)\n",
    "    * [3.4 - Comparison between countries](#comparison_countries)\n",
    "* [4 - Model](#model)"
   ]
  },
  {
   "cell_type": "markdown",
   "metadata": {},
   "source": [
    "# 1 - Import library <a name=\"import_library\"></a>"
   ]
  },
  {
   "cell_type": "code",
   "execution_count": 1,
   "metadata": {},
   "outputs": [],
   "source": [
    "import os\n",
    "import datetime\n",
    "import pandas as pd\n",
    "import numpy as np\n",
    "from scipy.signal import savgol_filter\n",
    "import matplotlib as mpl\n",
    "import matplotlib.pyplot as plt\n",
    "import matplotlib.dates as mdates\n",
    "from matplotlib import cm\n",
    "import math\n",
    "%matplotlib inline\n",
    "\n",
    "from ipywidgets import interact, interactive, fixed, interact_manual\n",
    "import ipywidgets as widgets\n",
    "\n",
    "import cartopy.crs as ccrs\n",
    "import cartopy.feature as cfeature\n",
    "import cartopy.io.shapereader as shpreader\n",
    "\n",
    "from IPython.display import IFrame"
   ]
  },
  {
   "cell_type": "markdown",
   "metadata": {},
   "source": [
    "# 2 - Import and wrangle data <a name=\"import_data\"></a>\n",
    "Data are aggregated by the Johns Hopkins University Center for Systems Science and Engineering (JHU CSSE). <br>\n",
    "More details on the origin and description of the date are available in the Readme of the github repository.<br>\n",
    "https://github.com/CSSEGISandData/COVID-19"
   ]
  },
  {
   "cell_type": "code",
   "execution_count": 2,
   "metadata": {},
   "outputs": [],
   "source": [
    "BASE_URL = 'https://raw.githubusercontent.com/CSSEGISandData/COVID-19/master/csse_covid_19_data/csse_covid_19_time_series/'"
   ]
  },
  {
   "cell_type": "markdown",
   "metadata": {},
   "source": [
    "## 2.1 - Import confirmed and deaths <a name=\"import_CSSE_data\"></a>"
   ]
  },
  {
   "cell_type": "code",
   "execution_count": 3,
   "metadata": {},
   "outputs": [],
   "source": [
    "df_dict={}\n",
    "for value_name in ['confirmed', 'deaths']:\n",
    "    df = pd.read_csv(os.path.join(BASE_URL, 'time_series_covid19_{}_global.csv'.format(value_name)))\n",
    "\n",
    "    df_value = df.drop(['Province/State', 'Lat', 'Long'], axis=1) \\\n",
    "                 .groupby(by='Country/Region') \\\n",
    "                 .agg('sum') \\\n",
    "                 .reset_index()\n",
    "\n",
    "    date_list = df_value.columns.values.tolist()\n",
    "    date_list.remove('Country/Region')\n",
    "    df_value = pd.melt(df_value,\n",
    "                       id_vars=['Country/Region'],\n",
    "                       value_vars=date_list,\n",
    "                       value_name=value_name,\n",
    "                       var_name='date')\n",
    "    df_value['date'] = pd.to_datetime(df_value['date'])\n",
    "\n",
    "    df_dict[value_name] = df_value\n",
    "    "
   ]
  },
  {
   "cell_type": "markdown",
   "metadata": {},
   "source": [
    "### Merge and order data by country and date"
   ]
  },
  {
   "cell_type": "code",
   "execution_count": 4,
   "metadata": {},
   "outputs": [],
   "source": [
    "df = pd.merge(df_dict['confirmed'], df_dict['deaths'], on=['Country/Region', 'date'])\n",
    "df.sort_values(by=['Country/Region', 'date'], inplace=True)\n",
    "df.reset_index(drop=True, inplace=True)"
   ]
  },
  {
   "cell_type": "markdown",
   "metadata": {},
   "source": [
    "## 2.2 - Enrich with cartopy  <a name=\"enrich_with_cartopy\"></a>"
   ]
  },
  {
   "cell_type": "markdown",
   "metadata": {},
   "source": [
    "### Rename some country name to be aligned with cartopy naming"
   ]
  },
  {
   "cell_type": "code",
   "execution_count": 5,
   "metadata": {},
   "outputs": [],
   "source": [
    "def rename_country(df):\n",
    "    if df in country:\n",
    "        return country[df]\n",
    "    else:\n",
    "        return df\n",
    "\n",
    "country={\n",
    "    'US': 'United States of America',\n",
    "    'Western Sahara': 'W. Sahara',\n",
    "    'Congo (Kinshasa)': 'Dem. Rep. Congo',\n",
    "    'Congo (Brazzaville)':'Congo',\n",
    "    'Dominican Republic': 'Dominican Rep.',\n",
    "    \"Cote d'Ivoire\": \"Côte d'Ivoire\",\n",
    "    'Central African Republic': 'Central African Rep.',\n",
    "    'Korea, South': 'South Korea',\n",
    "    'Taiwan*': 'Taiwan',\n",
    "    'South Sudan': 'S. Sudan',\n",
    "    'Bosnia and Herzegovina': 'Bosnia and Herz.',\n",
    "    'Equatorial Guinea': 'Eq. Guinea',\n",
    "    'Burma': 'Myanmar',\n",
    "    'Eswatini': 'eSwatini',\n",
    "    'North Macedonia': 'Macedonia',\n",
    "    'West Bank and Gaza': 'Palestine'\n",
    "}\n",
    "\n",
    "df['Country/Region'] = df['Country/Region'].apply(lambda x: rename_country(x))"
   ]
  },
  {
   "cell_type": "markdown",
   "metadata": {},
   "source": [
    "### Get population / continent from cartopy"
   ]
  },
  {
   "cell_type": "code",
   "execution_count": 6,
   "metadata": {},
   "outputs": [],
   "source": [
    "shpfilename = shpreader.natural_earth(resolution='110m',\n",
    "                                      category='cultural',\n",
    "                                      name='admin_0_countries')\n",
    "reader = shpreader.Reader(shpfilename)\n",
    "countries = reader.records()\n",
    "\n",
    "population = {}\n",
    "continent = {}\n",
    "countries_not_in_CSSE = []\n",
    "\n",
    "for country in countries:\n",
    "    #print(country.attributes)\n",
    "    population[country.attributes['NAME']]=country.attributes['POP_EST']\n",
    "    continent[country.attributes['NAME']]=country.attributes['CONTINENT']\n",
    "    if not country.attributes['NAME'] in df['Country/Region'].unique():\n",
    "        countries_not_in_CSSE.append(country.attributes['NAME'])"
   ]
  },
  {
   "cell_type": "markdown",
   "metadata": {},
   "source": [
    "### Print cartopy countries that are not available in CSSE data"
   ]
  },
  {
   "cell_type": "code",
   "execution_count": 7,
   "metadata": {},
   "outputs": [
    {
     "name": "stdout",
     "output_type": "stream",
     "text": [
      "['Falkland Is.', 'Greenland', 'Fr. S. Antarctic Lands', 'Lesotho', 'Puerto Rico', 'Vanuatu', 'North Korea', 'Tajikistan', 'Turkmenistan', 'New Caledonia', 'Solomon Is.', 'Antarctica', 'N. Cyprus', 'Somaliland']\n"
     ]
    }
   ],
   "source": [
    "print(countries_not_in_CSSE)"
   ]
  },
  {
   "cell_type": "markdown",
   "metadata": {},
   "source": [
    "### Enrich with population / continent"
   ]
  },
  {
   "cell_type": "code",
   "execution_count": 8,
   "metadata": {},
   "outputs": [],
   "source": [
    "population['Singapore'] = 5600000\n",
    "continent['Singapore'] = 'Asia'\n",
    "\n",
    "df['population'] = df['Country/Region'].map(population)\n",
    "df['continent'] = df['Country/Region'].map(continent)"
   ]
  },
  {
   "cell_type": "markdown",
   "metadata": {},
   "source": [
    "### Print CSSE countries that are not available in cartopy"
   ]
  },
  {
   "cell_type": "code",
   "execution_count": 9,
   "metadata": {},
   "outputs": [
    {
     "name": "stdout",
     "output_type": "stream",
     "text": [
      "['Andorra' 'Antigua and Barbuda' 'Bahrain' 'Barbados' 'Cabo Verde'\n",
      " 'Diamond Princess' 'Dominica' 'Grenada' 'Holy See' 'Liechtenstein'\n",
      " 'MS Zaandam' 'Maldives' 'Malta' 'Mauritius' 'Monaco'\n",
      " 'Saint Kitts and Nevis' 'Saint Lucia' 'Saint Vincent and the Grenadines'\n",
      " 'San Marino' 'Sao Tome and Principe' 'Seychelles']\n"
     ]
    }
   ],
   "source": [
    "countries_not_in_cartopy = df[df['continent'].isnull()]['Country/Region'].unique()\n",
    "print(countries_not_in_cartopy)"
   ]
  },
  {
   "cell_type": "markdown",
   "metadata": {},
   "source": [
    "## 2.3 - Smooth, derive and more  <a name=\"smooth-derive\"></a>"
   ]
  },
  {
   "cell_type": "code",
   "execution_count": 10,
   "metadata": {},
   "outputs": [],
   "source": [
    "def smooth_data(df, param):\n",
    "    try:\n",
    "        df[param] = savgol_filter(df[param] , 7, 3)\n",
    "    except:\n",
    "        pass\n",
    "    return df"
   ]
  },
  {
   "cell_type": "code",
   "execution_count": 11,
   "metadata": {},
   "outputs": [],
   "source": [
    "def derive_data(df, param):\n",
    "    try:\n",
    "        df[param + '_per_day'] = savgol_filter(df[param] , 7, 3, deriv=1)\n",
    "    except:\n",
    "        df[param + '_per_day'] = df[param] - df[param].shift(1)\n",
    "    return df"
   ]
  },
  {
   "cell_type": "code",
   "execution_count": 12,
   "metadata": {},
   "outputs": [],
   "source": [
    "def confirmed_computed(df):\n",
    "    df['confirmed_computed'] = df['deaths'].shift(-6, fill_value=0) / 0.01\n",
    "    df['confirmed_ratio'] = 10.\n",
    "    for i in df.index:\n",
    "        if (df.loc[i, 'confirmed_computed']==0) & (i>df.index.min()):\n",
    "            if (df.loc[i-1, 'confirmed']!=0):\n",
    "                df.loc[i, 'confirmed_ratio'] = df.loc[i-1, 'confirmed_computed'] / df.loc[i-1, 'confirmed']\n",
    "                df.loc[i, 'confirmed_computed'] = df.loc[i-1, 'confirmed_computed'] + df.loc[i, 'confirmed_per_day'] * df.loc[i,'confirmed_ratio']\n",
    "    return df"
   ]
  },
  {
   "cell_type": "code",
   "execution_count": 13,
   "metadata": {},
   "outputs": [],
   "source": [
    "for param in ['confirmed', 'deaths']:\n",
    "    df = df.groupby('Country/Region').apply(lambda x: smooth_data(x, param))\n",
    "    df = df.groupby('Country/Region').apply(lambda x: derive_data(x, param))"
   ]
  },
  {
   "cell_type": "markdown",
   "metadata": {},
   "source": [
    "A new number of confirmed cases with 1% mortality rate is computed to get a better estimate of the actual number of cases across the world and remove the test bias between countries."
   ]
  },
  {
   "cell_type": "code",
   "execution_count": 14,
   "metadata": {},
   "outputs": [],
   "source": [
    "df = df.groupby('Country/Region').apply(lambda x: confirmed_computed(x))\n",
    "df = df.groupby('Country/Region').apply(lambda x: smooth_data(x, 'confirmed_computed'))\n",
    "df = df.groupby('Country/Region').apply(lambda x: derive_data(x, 'confirmed_computed'))"
   ]
  },
  {
   "cell_type": "markdown",
   "metadata": {},
   "source": [
    "Mortality rate in %"
   ]
  },
  {
   "cell_type": "code",
   "execution_count": 15,
   "metadata": {},
   "outputs": [],
   "source": [
    "df['mortality'] = df['deaths'] / df['confirmed'] * 100"
   ]
  },
  {
   "cell_type": "markdown",
   "metadata": {},
   "source": [
    "Data (confirmed, deaths overall and per day) for 10.000 inhabitants"
   ]
  },
  {
   "cell_type": "code",
   "execution_count": 16,
   "metadata": {},
   "outputs": [],
   "source": [
    "df['confirmed_per_cap'] = df['confirmed'] / df['population'] * 10000\n",
    "df['confirmed_computed_per_cap'] = df['confirmed_computed'] / df['population'] * 10000\n",
    "df['deaths_per_cap'] = df['deaths'] / df['population'] * 10000\n",
    "\n",
    "df['confirmed_per_day_per_cap'] = df['confirmed_per_day'] / df['population'] * 10000\n",
    "df['confirmed_computed_per_day_per_cap'] = df['confirmed_computed_per_day'] / df['population'] * 10000\n",
    "df['deaths_per_day_per_cap'] = df['deaths_per_day'] / df['population'] * 10000"
   ]
  },
  {
   "cell_type": "markdown",
   "metadata": {},
   "source": [
    "## 2.4 - Enrich with patient zero and confinement dates for some countries  <a name=\"patient_zero_confinement_dates\"></a>"
   ]
  },
  {
   "cell_type": "code",
   "execution_count": 17,
   "metadata": {},
   "outputs": [],
   "source": [
    "patient_zero = {'China': pd.to_datetime(\"2020-01-06\"),\n",
    "               'Italy': pd.to_datetime(\"2020-02-11\"),\n",
    "               'Iran': pd.to_datetime(\"2020-02-12\"),\n",
    "               'South Korea': pd.to_datetime(\"2020-02-09\"),\n",
    "               'Spain': pd.to_datetime(\"2020-02-18\"),\n",
    "               'France': pd.to_datetime(\"2020-02-22\"),\n",
    "               'Germany': pd.to_datetime(\"2020-03-01\"),\n",
    "               'United States of America': pd.to_datetime(\"2020-02-24\"),\n",
    "               'United Kingdom': pd.to_datetime(\"2020-02-26\"),\n",
    "               'Netherlands': pd.to_datetime(\"2020-03-01\"),\n",
    "               'Belgium': pd.to_datetime(\"2020-03-02\"),\n",
    "               'Switzerland': pd.to_datetime(\"2020-03-01\"),\n",
    "               'Brazil': pd.to_datetime(\"2020-03-06\"),\n",
    "               'Turkey': pd.to_datetime(\"2020-03-06\"),\n",
    "               'Sweden': pd.to_datetime(\"2020-03-06\"),\n",
    "               'Indonesia': pd.to_datetime(\"2020-03-06\"),\n",
    "               'Portugal': pd.to_datetime(\"2020-03-07\"),\n",
    "               'Philippines': pd.to_datetime(\"2020-03-06\"),\n",
    "               'Austria': pd.to_datetime(\"2020-03-08\"),\n",
    "               'Denmark': pd.to_datetime(\"2020-03-08\"),\n",
    "              }\n",
    "\n",
    "confinement = {'China': pd.to_datetime(\"2020-01-23\"),\n",
    "               'Italy': pd.to_datetime(\"2020-03-08\"),\n",
    "               'Spain': pd.to_datetime(\"2020-03-14\"),\n",
    "               'France': pd.to_datetime(\"2020-03-16\"),\n",
    "               'Germany': pd.to_datetime(\"2020-03-22\"),\n",
    "               'United States of America': pd.to_datetime(\"2020-03-20\"),\n",
    "               'United Kingdom': pd.to_datetime(\"2020-03-23\"),\n",
    "               'Netherlands': pd.to_datetime(\"2020-03-23\"),\n",
    "               'Belgium': pd.to_datetime(\"2020-03-18\"),\n",
    "               'Switzerland': pd.to_datetime(\"2020-03-16\"),\n",
    "               'Turkey': pd.to_datetime(\"2020-03-27\"),\n",
    "               'Indonesia': pd.to_datetime(\"2020-03-29\"),\n",
    "               'Portugal': pd.to_datetime(\"2020-03-20\"),\n",
    "               'Philippines': pd.to_datetime(\"2020-03-16\"),\n",
    "               'Austria': pd.to_datetime(\"2020-03-16\"),\n",
    "               'Denmark': pd.to_datetime(\"2020-03-11\"),\n",
    "              }\n",
    "\n",
    "df['patient_zero'] = df['Country/Region'].map(patient_zero)\n",
    "df['confinement'] = df['Country/Region'].map(confinement)\n",
    "df['contagion_days'] = (df['date'] - df['patient_zero']) / pd.to_timedelta(1, unit='D')\n",
    "df['contagion_days_confinement'] = (df['confinement'] - df['patient_zero']) / pd.to_timedelta(1, unit='D')"
   ]
  },
  {
   "cell_type": "markdown",
   "metadata": {},
   "source": [
    "## 2.5 - Display some data <a name=\"display_data\"></a>"
   ]
  },
  {
   "cell_type": "code",
   "execution_count": 18,
   "metadata": {},
   "outputs": [
    {
     "data": {
      "text/html": [
       "<div>\n",
       "<style scoped>\n",
       "    .dataframe tbody tr th:only-of-type {\n",
       "        vertical-align: middle;\n",
       "    }\n",
       "\n",
       "    .dataframe tbody tr th {\n",
       "        vertical-align: top;\n",
       "    }\n",
       "\n",
       "    .dataframe thead th {\n",
       "        text-align: right;\n",
       "    }\n",
       "</style>\n",
       "<table border=\"1\" class=\"dataframe\">\n",
       "  <thead>\n",
       "    <tr style=\"text-align: right;\">\n",
       "      <th></th>\n",
       "      <th>Country/Region</th>\n",
       "      <th>date</th>\n",
       "      <th>confirmed</th>\n",
       "      <th>deaths</th>\n",
       "      <th>population</th>\n",
       "      <th>continent</th>\n",
       "      <th>confirmed_per_day</th>\n",
       "      <th>deaths_per_day</th>\n",
       "      <th>confirmed_computed</th>\n",
       "      <th>confirmed_ratio</th>\n",
       "      <th>...</th>\n",
       "      <th>confirmed_per_cap</th>\n",
       "      <th>confirmed_computed_per_cap</th>\n",
       "      <th>deaths_per_cap</th>\n",
       "      <th>confirmed_per_day_per_cap</th>\n",
       "      <th>confirmed_computed_per_day_per_cap</th>\n",
       "      <th>deaths_per_day_per_cap</th>\n",
       "      <th>patient_zero</th>\n",
       "      <th>confinement</th>\n",
       "      <th>contagion_days</th>\n",
       "      <th>contagion_days_confinement</th>\n",
       "    </tr>\n",
       "  </thead>\n",
       "  <tbody>\n",
       "    <tr>\n",
       "      <th>0</th>\n",
       "      <td>Afghanistan</td>\n",
       "      <td>2020-01-22</td>\n",
       "      <td>0.0</td>\n",
       "      <td>0.0</td>\n",
       "      <td>34124811.0</td>\n",
       "      <td>Asia</td>\n",
       "      <td>0.0</td>\n",
       "      <td>0.0</td>\n",
       "      <td>0.0</td>\n",
       "      <td>10.0</td>\n",
       "      <td>...</td>\n",
       "      <td>0.0</td>\n",
       "      <td>0.0</td>\n",
       "      <td>0.0</td>\n",
       "      <td>0.0</td>\n",
       "      <td>0.0</td>\n",
       "      <td>0.0</td>\n",
       "      <td>NaT</td>\n",
       "      <td>NaT</td>\n",
       "      <td>NaN</td>\n",
       "      <td>NaN</td>\n",
       "    </tr>\n",
       "    <tr>\n",
       "      <th>1</th>\n",
       "      <td>Afghanistan</td>\n",
       "      <td>2020-01-23</td>\n",
       "      <td>0.0</td>\n",
       "      <td>0.0</td>\n",
       "      <td>34124811.0</td>\n",
       "      <td>Asia</td>\n",
       "      <td>0.0</td>\n",
       "      <td>0.0</td>\n",
       "      <td>0.0</td>\n",
       "      <td>10.0</td>\n",
       "      <td>...</td>\n",
       "      <td>0.0</td>\n",
       "      <td>0.0</td>\n",
       "      <td>0.0</td>\n",
       "      <td>0.0</td>\n",
       "      <td>0.0</td>\n",
       "      <td>0.0</td>\n",
       "      <td>NaT</td>\n",
       "      <td>NaT</td>\n",
       "      <td>NaN</td>\n",
       "      <td>NaN</td>\n",
       "    </tr>\n",
       "    <tr>\n",
       "      <th>2</th>\n",
       "      <td>Afghanistan</td>\n",
       "      <td>2020-01-24</td>\n",
       "      <td>0.0</td>\n",
       "      <td>0.0</td>\n",
       "      <td>34124811.0</td>\n",
       "      <td>Asia</td>\n",
       "      <td>0.0</td>\n",
       "      <td>0.0</td>\n",
       "      <td>0.0</td>\n",
       "      <td>10.0</td>\n",
       "      <td>...</td>\n",
       "      <td>0.0</td>\n",
       "      <td>0.0</td>\n",
       "      <td>0.0</td>\n",
       "      <td>0.0</td>\n",
       "      <td>0.0</td>\n",
       "      <td>0.0</td>\n",
       "      <td>NaT</td>\n",
       "      <td>NaT</td>\n",
       "      <td>NaN</td>\n",
       "      <td>NaN</td>\n",
       "    </tr>\n",
       "    <tr>\n",
       "      <th>3</th>\n",
       "      <td>Afghanistan</td>\n",
       "      <td>2020-01-25</td>\n",
       "      <td>0.0</td>\n",
       "      <td>0.0</td>\n",
       "      <td>34124811.0</td>\n",
       "      <td>Asia</td>\n",
       "      <td>0.0</td>\n",
       "      <td>0.0</td>\n",
       "      <td>0.0</td>\n",
       "      <td>10.0</td>\n",
       "      <td>...</td>\n",
       "      <td>0.0</td>\n",
       "      <td>0.0</td>\n",
       "      <td>0.0</td>\n",
       "      <td>0.0</td>\n",
       "      <td>0.0</td>\n",
       "      <td>0.0</td>\n",
       "      <td>NaT</td>\n",
       "      <td>NaT</td>\n",
       "      <td>NaN</td>\n",
       "      <td>NaN</td>\n",
       "    </tr>\n",
       "    <tr>\n",
       "      <th>4</th>\n",
       "      <td>Afghanistan</td>\n",
       "      <td>2020-01-26</td>\n",
       "      <td>0.0</td>\n",
       "      <td>0.0</td>\n",
       "      <td>34124811.0</td>\n",
       "      <td>Asia</td>\n",
       "      <td>0.0</td>\n",
       "      <td>0.0</td>\n",
       "      <td>0.0</td>\n",
       "      <td>10.0</td>\n",
       "      <td>...</td>\n",
       "      <td>0.0</td>\n",
       "      <td>0.0</td>\n",
       "      <td>0.0</td>\n",
       "      <td>0.0</td>\n",
       "      <td>0.0</td>\n",
       "      <td>0.0</td>\n",
       "      <td>NaT</td>\n",
       "      <td>NaT</td>\n",
       "      <td>NaN</td>\n",
       "      <td>NaN</td>\n",
       "    </tr>\n",
       "  </tbody>\n",
       "</table>\n",
       "<p>5 rows × 22 columns</p>\n",
       "</div>"
      ],
      "text/plain": [
       "  Country/Region       date  confirmed  deaths  population continent  \\\n",
       "0    Afghanistan 2020-01-22        0.0     0.0  34124811.0      Asia   \n",
       "1    Afghanistan 2020-01-23        0.0     0.0  34124811.0      Asia   \n",
       "2    Afghanistan 2020-01-24        0.0     0.0  34124811.0      Asia   \n",
       "3    Afghanistan 2020-01-25        0.0     0.0  34124811.0      Asia   \n",
       "4    Afghanistan 2020-01-26        0.0     0.0  34124811.0      Asia   \n",
       "\n",
       "   confirmed_per_day  deaths_per_day  confirmed_computed  confirmed_ratio  \\\n",
       "0                0.0             0.0                 0.0             10.0   \n",
       "1                0.0             0.0                 0.0             10.0   \n",
       "2                0.0             0.0                 0.0             10.0   \n",
       "3                0.0             0.0                 0.0             10.0   \n",
       "4                0.0             0.0                 0.0             10.0   \n",
       "\n",
       "   ...  confirmed_per_cap  confirmed_computed_per_cap  deaths_per_cap  \\\n",
       "0  ...                0.0                         0.0             0.0   \n",
       "1  ...                0.0                         0.0             0.0   \n",
       "2  ...                0.0                         0.0             0.0   \n",
       "3  ...                0.0                         0.0             0.0   \n",
       "4  ...                0.0                         0.0             0.0   \n",
       "\n",
       "   confirmed_per_day_per_cap  confirmed_computed_per_day_per_cap  \\\n",
       "0                        0.0                                 0.0   \n",
       "1                        0.0                                 0.0   \n",
       "2                        0.0                                 0.0   \n",
       "3                        0.0                                 0.0   \n",
       "4                        0.0                                 0.0   \n",
       "\n",
       "   deaths_per_day_per_cap  patient_zero  confinement contagion_days  \\\n",
       "0                     0.0           NaT          NaT            NaN   \n",
       "1                     0.0           NaT          NaT            NaN   \n",
       "2                     0.0           NaT          NaT            NaN   \n",
       "3                     0.0           NaT          NaT            NaN   \n",
       "4                     0.0           NaT          NaT            NaN   \n",
       "\n",
       "  contagion_days_confinement  \n",
       "0                        NaN  \n",
       "1                        NaN  \n",
       "2                        NaN  \n",
       "3                        NaN  \n",
       "4                        NaN  \n",
       "\n",
       "[5 rows x 22 columns]"
      ]
     },
     "execution_count": 18,
     "metadata": {},
     "output_type": "execute_result"
    }
   ],
   "source": [
    "df.head()"
   ]
  },
  {
   "cell_type": "markdown",
   "metadata": {},
   "source": [
    "### Print list of countries"
   ]
  },
  {
   "cell_type": "code",
   "execution_count": 19,
   "metadata": {},
   "outputs": [
    {
     "name": "stdout",
     "output_type": "stream",
     "text": [
      "['Afghanistan' 'Albania' 'Algeria' 'Andorra' 'Angola'\n",
      " 'Antigua and Barbuda' 'Argentina' 'Armenia' 'Australia' 'Austria'\n",
      " 'Azerbaijan' 'Bahamas' 'Bahrain' 'Bangladesh' 'Barbados' 'Belarus'\n",
      " 'Belgium' 'Belize' 'Benin' 'Bhutan' 'Bolivia' 'Bosnia and Herz.'\n",
      " 'Botswana' 'Brazil' 'Brunei' 'Bulgaria' 'Burkina Faso' 'Myanmar'\n",
      " 'Burundi' 'Cabo Verde' 'Cambodia' 'Cameroon' 'Canada'\n",
      " 'Central African Rep.' 'Chad' 'Chile' 'China' 'Colombia' 'Congo'\n",
      " 'Dem. Rep. Congo' 'Costa Rica' \"Côte d'Ivoire\" 'Croatia' 'Cuba' 'Cyprus'\n",
      " 'Czechia' 'Denmark' 'Diamond Princess' 'Djibouti' 'Dominica'\n",
      " 'Dominican Rep.' 'Ecuador' 'Egypt' 'El Salvador' 'Eq. Guinea' 'Eritrea'\n",
      " 'Estonia' 'eSwatini' 'Ethiopia' 'Fiji' 'Finland' 'France' 'Gabon'\n",
      " 'Gambia' 'Georgia' 'Germany' 'Ghana' 'Greece' 'Grenada' 'Guatemala'\n",
      " 'Guinea' 'Guinea-Bissau' 'Guyana' 'Haiti' 'Holy See' 'Honduras' 'Hungary'\n",
      " 'Iceland' 'India' 'Indonesia' 'Iran' 'Iraq' 'Ireland' 'Israel' 'Italy'\n",
      " 'Jamaica' 'Japan' 'Jordan' 'Kazakhstan' 'Kenya' 'South Korea' 'Kosovo'\n",
      " 'Kuwait' 'Kyrgyzstan' 'Laos' 'Latvia' 'Lebanon' 'Liberia' 'Libya'\n",
      " 'Liechtenstein' 'Lithuania' 'Luxembourg' 'MS Zaandam' 'Madagascar'\n",
      " 'Malawi' 'Malaysia' 'Maldives' 'Mali' 'Malta' 'Mauritania' 'Mauritius'\n",
      " 'Mexico' 'Moldova' 'Monaco' 'Mongolia' 'Montenegro' 'Morocco'\n",
      " 'Mozambique' 'Namibia' 'Nepal' 'Netherlands' 'New Zealand' 'Nicaragua'\n",
      " 'Niger' 'Nigeria' 'Macedonia' 'Norway' 'Oman' 'Pakistan' 'Panama'\n",
      " 'Papua New Guinea' 'Paraguay' 'Peru' 'Philippines' 'Poland' 'Portugal'\n",
      " 'Qatar' 'Romania' 'Russia' 'Rwanda' 'Saint Kitts and Nevis' 'Saint Lucia'\n",
      " 'Saint Vincent and the Grenadines' 'San Marino' 'Sao Tome and Principe'\n",
      " 'Saudi Arabia' 'Senegal' 'Serbia' 'Seychelles' 'Sierra Leone' 'Singapore'\n",
      " 'Slovakia' 'Slovenia' 'Somalia' 'South Africa' 'S. Sudan' 'Spain'\n",
      " 'Sri Lanka' 'Sudan' 'Suriname' 'Sweden' 'Switzerland' 'Syria' 'Taiwan'\n",
      " 'Tanzania' 'Thailand' 'Timor-Leste' 'Togo' 'Trinidad and Tobago'\n",
      " 'Tunisia' 'Turkey' 'United States of America' 'Uganda' 'Ukraine'\n",
      " 'United Arab Emirates' 'United Kingdom' 'Uruguay' 'Uzbekistan'\n",
      " 'Venezuela' 'Vietnam' 'Palestine' 'W. Sahara' 'Yemen' 'Zambia' 'Zimbabwe']\n"
     ]
    }
   ],
   "source": [
    "print(df['Country/Region'].unique())"
   ]
  },
  {
   "cell_type": "markdown",
   "metadata": {},
   "source": [
    "### Print list of countries with max deaths"
   ]
  },
  {
   "cell_type": "code",
   "execution_count": 20,
   "metadata": {},
   "outputs": [
    {
     "data": {
      "text/html": [
       "<div>\n",
       "<style scoped>\n",
       "    .dataframe tbody tr th:only-of-type {\n",
       "        vertical-align: middle;\n",
       "    }\n",
       "\n",
       "    .dataframe tbody tr th {\n",
       "        vertical-align: top;\n",
       "    }\n",
       "\n",
       "    .dataframe thead th {\n",
       "        text-align: right;\n",
       "    }\n",
       "</style>\n",
       "<table border=\"1\" class=\"dataframe\">\n",
       "  <thead>\n",
       "    <tr style=\"text-align: right;\">\n",
       "      <th></th>\n",
       "      <th>index</th>\n",
       "      <th>Country/Region</th>\n",
       "      <th>deaths</th>\n",
       "    </tr>\n",
       "  </thead>\n",
       "  <tbody>\n",
       "    <tr>\n",
       "      <th>0</th>\n",
       "      <td>175</td>\n",
       "      <td>United States of America</td>\n",
       "      <td>32847.214286</td>\n",
       "    </tr>\n",
       "    <tr>\n",
       "      <th>1</th>\n",
       "      <td>82</td>\n",
       "      <td>Italy</td>\n",
       "      <td>22184.166667</td>\n",
       "    </tr>\n",
       "    <tr>\n",
       "      <th>2</th>\n",
       "      <td>156</td>\n",
       "      <td>Spain</td>\n",
       "      <td>19313.619048</td>\n",
       "    </tr>\n",
       "    <tr>\n",
       "      <th>3</th>\n",
       "      <td>59</td>\n",
       "      <td>France</td>\n",
       "      <td>18039.357143</td>\n",
       "    </tr>\n",
       "    <tr>\n",
       "      <th>4</th>\n",
       "      <td>174</td>\n",
       "      <td>United Kingdom</td>\n",
       "      <td>13764.238095</td>\n",
       "    </tr>\n",
       "    <tr>\n",
       "      <th>5</th>\n",
       "      <td>78</td>\n",
       "      <td>Iran</td>\n",
       "      <td>4868.404762</td>\n",
       "    </tr>\n",
       "    <tr>\n",
       "      <th>6</th>\n",
       "      <td>16</td>\n",
       "      <td>Belgium</td>\n",
       "      <td>4848.785714</td>\n",
       "    </tr>\n",
       "    <tr>\n",
       "      <th>7</th>\n",
       "      <td>63</td>\n",
       "      <td>Germany</td>\n",
       "      <td>4070.000000</td>\n",
       "    </tr>\n",
       "    <tr>\n",
       "      <th>8</th>\n",
       "      <td>35</td>\n",
       "      <td>China</td>\n",
       "      <td>3346.119048</td>\n",
       "    </tr>\n",
       "    <tr>\n",
       "      <th>9</th>\n",
       "      <td>119</td>\n",
       "      <td>Netherlands</td>\n",
       "      <td>3335.238095</td>\n",
       "    </tr>\n",
       "  </tbody>\n",
       "</table>\n",
       "</div>"
      ],
      "text/plain": [
       "   index            Country/Region        deaths\n",
       "0    175  United States of America  32847.214286\n",
       "1     82                     Italy  22184.166667\n",
       "2    156                     Spain  19313.619048\n",
       "3     59                    France  18039.357143\n",
       "4    174            United Kingdom  13764.238095\n",
       "5     78                      Iran   4868.404762\n",
       "6     16                   Belgium   4848.785714\n",
       "7     63                   Germany   4070.000000\n",
       "8     35                     China   3346.119048\n",
       "9    119               Netherlands   3335.238095"
      ]
     },
     "execution_count": 20,
     "metadata": {},
     "output_type": "execute_result"
    }
   ],
   "source": [
    "df.groupby(by='Country/Region') \\\n",
    "  .agg({'deaths':'max'}) \\\n",
    "  .reset_index() \\\n",
    "  .sort_values(by='deaths', ascending=False) \\\n",
    "  .reset_index() \\\n",
    "  .head(10)"
   ]
  },
  {
   "cell_type": "markdown",
   "metadata": {},
   "source": [
    "# 3 - Data analysis <a name=\"data_analysis\"></a>"
   ]
  },
  {
   "cell_type": "markdown",
   "metadata": {},
   "source": [
    "## 3.1 -  Geographical evolution in the world <a name=\"geographical_evolution\"></a>"
   ]
  },
  {
   "cell_type": "code",
   "execution_count": 21,
   "metadata": {},
   "outputs": [],
   "source": [
    "class MplColorHelper:\n",
    "\n",
    "  def __init__(self, cmap_name, start_val, stop_val):\n",
    "    self.cmap_name = cmap_name\n",
    "    self.cmap = plt.get_cmap(cmap_name, 10)\n",
    "    self.norm = mpl.colors.Normalize(vmin=start_val, vmax=stop_val)\n",
    "    self.scalarMap = cm.ScalarMappable(norm=self.norm, cmap=self.cmap)\n",
    "\n",
    "  def get_rgb(self, val):\n",
    "    return self.scalarMap.to_rgba(val)\n"
   ]
  },
  {
   "cell_type": "code",
   "execution_count": 22,
   "metadata": {},
   "outputs": [
    {
     "data": {
      "application/vnd.jupyter.widget-view+json": {
       "model_id": "1ddfeb75c06b4aa0821f8d7b0b866ec8",
       "version_major": 2,
       "version_minor": 0
      },
      "text/plain": [
       "interactive(children=(Dropdown(description='Region', options=('World', 'Europe'), value='World'), SelectionSli…"
      ]
     },
     "metadata": {},
     "output_type": "display_data"
    },
    {
     "data": {
      "text/plain": [
       "<function __main__.plot_contagion_map(region, date_string, param)>"
      ]
     },
     "execution_count": 22,
     "metadata": {},
     "output_type": "execute_result"
    }
   ],
   "source": [
    "def plot_contagion_map(region, date_string, param):\n",
    "\n",
    "    fig = plt.figure(figsize=(18, 20))\n",
    "    ax = fig.add_subplot(1, 1, 1, projection=ccrs.PlateCarree())\n",
    "    \n",
    "    if region == 'World':\n",
    "        ax.set_extent([-180, 180, -60, 90], crs=ccrs.PlateCarree())\n",
    "    elif region == 'Europe':\n",
    "        ax.set_extent([-30, 50, 34, 72], crs=ccrs.PlateCarree())\n",
    "\n",
    "    ax.add_feature(cfeature.LAND)\n",
    "    ax.add_feature(cfeature.OCEAN)\n",
    "    ax.add_feature(cfeature.COASTLINE)\n",
    "    ax.add_feature(cfeature.BORDERS, linestyle=':')\n",
    "    ax.add_feature(cfeature.LAKES, alpha=0.5)\n",
    "    ax.add_feature(cfeature.RIVERS)\n",
    "\n",
    "    mask_date = df['date'] == datetime.datetime.strptime(date_string, ' %d %b %Y ')\n",
    "    ax.text(0.5, 1.05, date_string,\n",
    "            transform=ax.transAxes, fontsize=20,\n",
    "            horizontalalignment='center',verticalalignment='center',\n",
    "            )\n",
    "\n",
    "    # define colormap (min=0, max=y*10^x)\n",
    "    x = math.floor(math.log10(df[param].max()))\n",
    "    y = math.floor(df[param].max()/ 10**x) + 1\n",
    "    COL = MplColorHelper('Reds', 0, y*10**x)\n",
    "    \n",
    "    shpfilename = shpreader.natural_earth(resolution='110m',\n",
    "                                      category='cultural',\n",
    "                                      name='admin_0_countries')\n",
    "    reader = shpreader.Reader(shpfilename)\n",
    "    countries = reader.records()\n",
    "    \n",
    "    for country in countries:\n",
    "        if country.attributes['NAME'] in df[mask_date]['Country/Region'].unique():\n",
    "            mask_country = df['Country/Region'] == country.attributes['NAME']\n",
    "            if not df[mask_date & mask_country].empty:\n",
    "                val = df[mask_date & mask_country][param].values[0]\n",
    "                ax.add_geometries(country.geometry, ccrs.PlateCarree(),\n",
    "                                  facecolor=COL.get_rgb(val),\n",
    "                                  edgecolor=(0,0,0)\n",
    "                                 )\n",
    "\n",
    "    sm = COL.scalarMap\n",
    "    plt.colorbar(sm,ax=ax, orientation='vertical', pad=0.02, shrink=0.32)\n",
    "    \n",
    "    plt.show()\n",
    "\n",
    "options=['World', 'Europe']\n",
    "\n",
    "selection_region = widgets.Dropdown(\n",
    "    options=options,\n",
    "    value=options[0],\n",
    "    description='Region',\n",
    "    disabled=False,\n",
    ")\n",
    "    \n",
    "dates = pd.date_range(df['date'].min(), df['date'].max(), freq='D').tolist()\n",
    "options = [date.strftime(' %d %b %Y ') for date in dates]\n",
    "\n",
    "selection_slider = widgets.SelectionSlider(\n",
    "    options=options,\n",
    "    value=options[0],\n",
    "    description='Date',\n",
    "    orientation='horizontal',\n",
    "    layout={'width': '500px'}\n",
    ")\n",
    "\n",
    "options=['confirmed', 'confirmed_computed', 'deaths',\n",
    "         'confirmed_per_day', 'confirmed_computed_per_day', 'deaths_per_day',\n",
    "         'confirmed_per_cap', 'confirmed_computed_per_cap', 'deaths_per_cap',\n",
    "         'confirmed_per_day_per_cap', 'confirmed_computed_per_day_per_cap', 'deaths_per_day_per_cap',\n",
    "        ]\n",
    "\n",
    "selection_param = widgets.Dropdown(\n",
    "    options=options,\n",
    "    value=options[0],\n",
    "    description='Param',\n",
    "    disabled=False,\n",
    ")\n",
    "\n",
    "interact(plot_contagion_map, region=selection_region, date_string = selection_slider, param=selection_param)\n"
   ]
  },
  {
   "cell_type": "markdown",
   "metadata": {},
   "source": [
    "## 3.2 - Analysis by continent <a name=\"analysis_continent\"></a>\n",
    "### Plot type\n",
    "    - Area --> lasagna analysis, data are added on top of each other (show overall sum and split)\n",
    "    - Line --> raw display of the data\n",
    "    \n",
    "### Analysis\n",
    "    - Continent --> data are aggregated by continent\n",
    "    - World --> countries with top 10 number of deaths\n",
    "    - Asia, Africa ... --> countries with top 10 number of deaths in the given continent"
   ]
  },
  {
   "cell_type": "code",
   "execution_count": 23,
   "metadata": {},
   "outputs": [
    {
     "data": {
      "application/vnd.jupyter.widget-view+json": {
       "model_id": "c0640b2600064a37810fd4ee11d0d9b8",
       "version_major": 2,
       "version_minor": 0
      },
      "text/plain": [
       "interactive(children=(Dropdown(description='Plot type', options=('Area', 'Line'), value='Area'), Dropdown(desc…"
      ]
     },
     "metadata": {},
     "output_type": "display_data"
    },
    {
     "data": {
      "text/plain": [
       "<function __main__.plot_contagion_by_continent(plot_type, analysis, param)>"
      ]
     },
     "execution_count": 23,
     "metadata": {},
     "output_type": "execute_result"
    }
   ],
   "source": [
    "def plot_contagion_by_continent(plot_type, analysis, param):\n",
    "    if analysis == 'Continent':\n",
    "        group = 'continent'\n",
    "        mask = pd.Series(True, index=np.arange(df.shape[0]))\n",
    "    if analysis == 'World':\n",
    "        group = 'Country/Region'\n",
    "        country_list = df.groupby(by='Country/Region') \\\n",
    "                         .agg({'deaths':'max'}) \\\n",
    "                         .sort_values(by='deaths', ascending=False) \\\n",
    "                         .head(10) \\\n",
    "                         .index\n",
    "        mask = df['Country/Region'].isin(country_list)\n",
    "    if analysis in ['Asia', 'Europe', 'North America', 'South America', 'Africa', 'Oceania']:\n",
    "        group = 'Country/Region'\n",
    "        country_list = df[df['continent']==analysis].groupby(by='Country/Region') \\\n",
    "                         .agg({'deaths':'max'}) \\\n",
    "                         .sort_values(by='deaths', ascending=False) \\\n",
    "                         .head(10) \\\n",
    "                         .index\n",
    "        mask = df['Country/Region'].isin(country_list)       \n",
    "\n",
    "    df_tmp = df[mask].groupby(by=['date', group]) \\\n",
    "               .agg({param: 'sum'}).reset_index() \\\n",
    "               .pivot(index='date', columns=group, values= param)\n",
    "    for var in df_tmp.columns:\n",
    "        df_tmp[var] = df_tmp[var].apply(lambda x: x if x>0 else 0)\n",
    "    \n",
    "    if plot_type == 'Area':\n",
    "        ax = df_tmp.plot(kind='area', grid=True)\n",
    "    if plot_type == 'Line':\n",
    "        ax = df_tmp.plot(kind='line', grid=True)\n",
    "\n",
    "    \n",
    "selection_plot = widgets.Dropdown(\n",
    "    options=['Area', 'Line'],\n",
    "    value='Area',\n",
    "    description='Plot type',\n",
    "    disabled=False,\n",
    ")\n",
    "\n",
    "selection_group = widgets.Dropdown(\n",
    "    options=['Continent', 'World', 'Asia', 'Europe', 'North America', 'South America', 'Africa', 'Oceania'],\n",
    "    value='Continent',\n",
    "    description='Analysis',\n",
    "    disabled=False,\n",
    ")\n",
    "\n",
    "options=['confirmed', 'confirmed_computed', 'deaths',\n",
    "         'confirmed_per_day', 'confirmed_computed_per_day', 'deaths_per_day',\n",
    "         'confirmed_per_cap', 'confirmed_computed_per_cap', 'deaths_per_cap',\n",
    "         'confirmed_per_day_per_cap', 'confirmed_computed_per_day_per_cap', 'deaths_per_day_per_cap',\n",
    "        ]\n",
    "\n",
    "selection_param = widgets.Dropdown(\n",
    "    options=options,\n",
    "    value=options[0],\n",
    "    description='Param',\n",
    "    disabled=False,\n",
    ")\n",
    "\n",
    "interact(plot_contagion_by_continent,\n",
    "         plot_type = selection_plot,\n",
    "         analysis = selection_group,\n",
    "         param=selection_param)"
   ]
  },
  {
   "cell_type": "markdown",
   "metadata": {},
   "source": [
    "## 3.3 - Analysis by country <a name=\"analysis_country\"></a>"
   ]
  },
  {
   "cell_type": "code",
   "execution_count": 24,
   "metadata": {},
   "outputs": [
    {
     "data": {
      "application/vnd.jupyter.widget-view+json": {
       "model_id": "2be7903bc2034729b3f25f538dea4d97",
       "version_major": 2,
       "version_minor": 0
      },
      "text/plain": [
       "interactive(children=(Dropdown(description='Country', index=61, options=('Afghanistan', 'Albania', 'Algeria', …"
      ]
     },
     "metadata": {},
     "output_type": "display_data"
    },
    {
     "data": {
      "text/plain": [
       "<function __main__.plot_contagion_by_country(country, param_list)>"
      ]
     },
     "execution_count": 24,
     "metadata": {},
     "output_type": "execute_result"
    }
   ],
   "source": [
    "def plot_contagion_by_country(country, param_list):\n",
    "    mask = df['Country/Region'] == country\n",
    "    if 'mortality' in param_list:\n",
    "        param_list = list(param_list)\n",
    "        param_list.remove('mortality')\n",
    "        if param_list != []:\n",
    "            ax1 = df[mask].plot(x='date', y=list(param_list), grid=True)\n",
    "            ax1.legend(loc='upper left')\n",
    "            ax2 = ax1.twinx()\n",
    "            df[mask].plot(x='date', y=['mortality'], c='k', linestyle='--', ax=ax2)\n",
    "            ax2.legend(loc='upper right')\n",
    "        else:\n",
    "            ax1 = df[mask].plot(x='date', y='deaths', linewidth=0, grid=True)\n",
    "            ax1.legend().remove()\n",
    "            ax2 = ax1.twinx()\n",
    "            df[mask].plot(x='date', y=['mortality'], c='k', linestyle='--', ax=ax2)\n",
    "            ax2.legend(loc='upper right')\n",
    "    else:\n",
    "        param_list = list(param_list)\n",
    "        ax1 = df[mask].plot(x='date', y=list(param_list), grid=True)\n",
    "        ax1.legend(loc='upper left')\n",
    "\n",
    "\n",
    "selection_slider = widgets.Dropdown(\n",
    "    options=df['Country/Region'].unique(),\n",
    "    value='France',\n",
    "    description='Country',\n",
    "    disabled=False,\n",
    ")\n",
    "\n",
    "options=['confirmed', 'confirmed_computed', 'deaths',\n",
    "         'confirmed_per_day', 'confirmed_computed_per_day', 'deaths_per_day',\n",
    "         'confirmed_per_cap', 'confirmed_computed_per_cap', 'deaths_per_cap',\n",
    "         'confirmed_per_day_per_cap', 'confirmed_computed_per_day_per_cap', 'deaths_per_day_per_cap',\n",
    "         'mortality'\n",
    "        ]\n",
    "selection_list = widgets.SelectMultiple(\n",
    "    options=options,\n",
    "    value=['confirmed', 'deaths', 'mortality'],\n",
    "    description='Param',\n",
    "    rows=len(options),\n",
    "    disabled=False\n",
    ")\n",
    "\n",
    "interact(plot_contagion_by_country, country = selection_slider, param_list=selection_list)"
   ]
  },
  {
   "cell_type": "markdown",
   "metadata": {},
   "source": [
    "## 3.4 - Comparison between countries <a name=\"comparison_countries\"></a>"
   ]
  },
  {
   "cell_type": "code",
   "execution_count": 25,
   "metadata": {},
   "outputs": [
    {
     "data": {
      "application/vnd.jupyter.widget-view+json": {
       "model_id": "694e5307ff7f49f293d1ed3c149a7df7",
       "version_major": 2,
       "version_minor": 0
      },
      "text/plain": [
       "interactive(children=(Checkbox(value=False, description='Confinement date'), Dropdown(description='Paramx', in…"
      ]
     },
     "metadata": {},
     "output_type": "display_data"
    },
    {
     "data": {
      "text/plain": [
       "<function __main__.plot_compare_contagion(confinement_date, paramx, param1, param2, countries)>"
      ]
     },
     "execution_count": 25,
     "metadata": {},
     "output_type": "execute_result"
    }
   ],
   "source": [
    "def plot_compare_contagion(confinement_date, paramx, param1, param2, countries):\n",
    "    if paramx == 'date':\n",
    "        start_date = datetime.date.today() + datetime.timedelta(-60)\n",
    "        end_date = datetime.date.today()\n",
    "        xlim=(start_date, end_date)\n",
    "    if paramx == 'contagion_days':\n",
    "        xlim=(0, 60)\n",
    "    fig, ax = plt.subplots(nrows=2, ncols=1, sharex=True, figsize=(8, 6))\n",
    "    for country in countries:\n",
    "        mask = df['Country/Region'] == country\n",
    "        df[mask].plot(x=paramx, y=param1, label=country, xlim=xlim, grid=True, ax=ax[0])\n",
    "        df[mask].plot(x=paramx, y=param2, label=country, grid=True, ax=ax[1])\n",
    "        \n",
    "        if confinement_date:\n",
    "            \n",
    "            if paramx == 'date':\n",
    "                confinement_date = df[mask]['confinement'].min()\n",
    "                if type(confinement_date) is pd.Timestamp:\n",
    "                    ax[0].axvline(x=confinement_date, color=plt.gca().lines[-1].get_color(), linestyle='--')\n",
    "                    ax[1].axvline(x=confinement_date, color=plt.gca().lines[-1].get_color(), linestyle='--')\n",
    "\n",
    "            if paramx == 'contagion_days':\n",
    "                contagion_days_confinement = df[mask]['contagion_days_confinement'].min()\n",
    "                if not math.isnan(contagion_days_confinement):\n",
    "                    ax[0].axvline(x=contagion_days_confinement, color=plt.gca().lines[-1].get_color(), linestyle='--')\n",
    "                    ax[1].axvline(x=contagion_days_confinement, color=plt.gca().lines[-1].get_color(), linestyle='--')\n",
    "\n",
    "    handles, labels = ax[0].get_legend_handles_labels()\n",
    "    ax[0].legend().remove()\n",
    "    ax[1].legend().remove()\n",
    "    ax[0].set_ylabel(param1)\n",
    "    ax[1].set_ylabel(param2)\n",
    "    fig.legend(handles, labels, bbox_to_anchor=(1.3, 0.9))\n",
    "    plt.tight_layout()\n",
    "    \n",
    "selection_confinement = widgets.Checkbox(\n",
    "    value=False,\n",
    "    description='Confinement date',\n",
    "    indent=True\n",
    ")\n",
    "\n",
    "selection_param_x = widgets.Dropdown(\n",
    "    options=['date', 'contagion_days'],\n",
    "    value='contagion_days',\n",
    "    description='Paramx',\n",
    "    disabled=False,\n",
    ")\n",
    "\n",
    "options=['confirmed', 'confirmed_computed', 'deaths',\n",
    "         'confirmed_per_day', 'confirmed_computed_per_day', 'deaths_per_day',\n",
    "         'confirmed_per_cap', 'confirmed_computed_per_cap', 'deaths_per_cap',\n",
    "         'confirmed_per_day_per_cap', 'confirmed_computed_per_day_per_cap', 'deaths_per_day_per_cap',\n",
    "        ]\n",
    "\n",
    "selection_param_1 = widgets.Dropdown(\n",
    "    options=options,\n",
    "    value=options[0],\n",
    "    description='Param1',\n",
    "    disabled=False,\n",
    ")\n",
    "\n",
    "selection_param_2 = widgets.Dropdown(\n",
    "    options=options,\n",
    "    value=options[2],\n",
    "    description='Param2',\n",
    "    disabled=False,\n",
    ")\n",
    "\n",
    "country_list = df.groupby(by='Country/Region') \\\n",
    "                 .agg({'deaths':'max'}) \\\n",
    "                 .sort_values(by='deaths', ascending=False) \\\n",
    "                 .head(10) \\\n",
    "                 .index\n",
    "\n",
    "selection_list = widgets.SelectMultiple(\n",
    "    options=df['Country/Region'].unique(),\n",
    "    value=list(country_list),\n",
    "    description='Countries',\n",
    "    rows=10,\n",
    "    disabled=False\n",
    ")\n",
    "\n",
    "interact(plot_compare_contagion,\n",
    "         confinement_date=selection_confinement,\n",
    "         paramx=selection_param_x,\n",
    "         param1=selection_param_1,\n",
    "         param2=selection_param_2,\n",
    "         countries = selection_list)\n"
   ]
  },
  {
   "cell_type": "markdown",
   "metadata": {},
   "source": [
    "# 4 - Model <a name=\"model\"></a>"
   ]
  },
  {
   "cell_type": "markdown",
   "metadata": {},
   "source": [
    "Hypotheses <br>\n",
    "    - simple model with a variable reproduction number R0\n",
    "    - RO increases number of cases every 3 days\n",
    "    - R0 is reduced (with some delay) when confinement is enforced\n",
    "    - 1% mortality rate\n",
    "\n",
    "The model is parametric and can be adapted to best fit the data for each country. <br>\n",
    "\n",
    "Be careful, because the model is a bit rough and only works in the exponential growth of the epidemy. It's more a way to assess the spread in each country and compare the evolution between countries. <br>\n",
    "\n",
    "For information on reproduction number, see wikipedia\n",
    "https://en.wikipedia.org/wiki/Basic_reproduction_number\n",
    "\n",
    "A video made by 3 american researchers also explains why R0 is so important in epidemic in general and for Covid19 in particular."
   ]
  },
  {
   "cell_type": "code",
   "execution_count": 26,
   "metadata": {},
   "outputs": [
    {
     "data": {
      "text/html": [
       "\n",
       "        <iframe\n",
       "            width=\"512\"\n",
       "            height=\"288\"\n",
       "            src=\"https://commons.wikimedia.org/wiki/File:COVID19_in_numbers-_R0,_the_case_fatality_rate_and_why_we_need_to_flatten_the_curve.webm?embedplayer=yes\"\n",
       "            frameborder=\"0\"\n",
       "            allowfullscreen\n",
       "        ></iframe>\n",
       "        "
      ],
      "text/plain": [
       "<IPython.lib.display.IFrame at 0x1a17d55dd8>"
      ]
     },
     "execution_count": 26,
     "metadata": {},
     "output_type": "execute_result"
    }
   ],
   "source": [
    "IFrame(src=\"https://commons.wikimedia.org/wiki/File:COVID19_in_numbers-_R0,_the_case_fatality_rate_and_why_we_need_to_flatten_the_curve.webm?embedplayer=yes\", width=512, height=288)"
   ]
  },
  {
   "cell_type": "code",
   "execution_count": 27,
   "metadata": {},
   "outputs": [
    {
     "data": {
      "application/vnd.jupyter.widget-view+json": {
       "model_id": "76de8dc25d1449ffa2a2a3670c86d107",
       "version_major": 2,
       "version_minor": 0
      },
      "text/plain": [
       "interactive(children=(Dropdown(description='Country', index=5, options=('Austria', 'Belgium', 'Brazil', 'China…"
      ]
     },
     "metadata": {},
     "output_type": "display_data"
    },
    {
     "data": {
      "text/plain": [
       "<function __main__.plot_with_model(country, m1, m2, delta_days)>"
      ]
     },
     "execution_count": 27,
     "metadata": {},
     "output_type": "execute_result"
    }
   ],
   "source": [
    "def plot_with_model(country, m1, m2, delta_days):\n",
    "    n=3\n",
    "    patient_zero_date=patient_zero[country]\n",
    "    if country in confinement:\n",
    "        confinement_date=confinement[country]\n",
    "    periods=90/n\n",
    "\n",
    "    df_tmp=pd.DataFrame()\n",
    "    df_tmp['date'] = pd.date_range(patient_zero_date, periods=periods, freq='{}d'.format(n))\n",
    "\n",
    "    df_tmp.loc[0, 'confirmed_model'] = 300\n",
    "    df_tmp.loc[0, 'confirmed_model_with_confinement'] = 300\n",
    "    df_tmp.loc[1, 'confirmed_model'] = 600\n",
    "    df_tmp.loc[1, 'confirmed_model_with_confinement'] = 600\n",
    "\n",
    "    for i in range(2, len(df_tmp)):\n",
    "        df_tmp.loc[i, 'confirmed_model'] = (df_tmp.loc[i-1, 'confirmed_model'] - df_tmp.loc[i-2, 'confirmed_model'])* m1 + df_tmp.loc[i-1, 'confirmed_model']\n",
    "        if country in confinement: \n",
    "            if df_tmp.loc[i, 'date']<confinement_date + datetime.timedelta(delta_days):\n",
    "                df_tmp.loc[i, 'confirmed_model_with_confinement'] = (df_tmp.loc[i-1, 'confirmed_model_with_confinement'] - df_tmp.loc[i-2, 'confirmed_model_with_confinement']) * m1 + df_tmp.loc[i-1, 'confirmed_model_with_confinement']\n",
    "            else:\n",
    "                df_tmp.loc[i, 'confirmed_model_with_confinement'] = (df_tmp.loc[i-1, 'confirmed_model_with_confinement'] - df_tmp.loc[i-2, 'confirmed_model_with_confinement']) * m2 + df_tmp.loc[i-1, 'confirmed_model_with_confinement']\n",
    "\n",
    "    df_tmp['deaths_model'] = df_tmp['confirmed_model'].shift(2)*0.01\n",
    "    df_tmp['deaths_model_with_confinement'] = df_tmp['confirmed_model_with_confinement'].shift(2)*0.01\n",
    "\n",
    "    mask = df['Country/Region'] == country\n",
    "    fig, ax = plt.subplots(nrows=2, ncols=1, sharex=True, figsize=(8, 6))\n",
    "    df[mask].plot(x='date', y=['confirmed_computed'], grid=True, ax=ax[0])\n",
    "    df_tmp.plot(kind='line',\n",
    "                 x='date',\n",
    "                 y=['confirmed_model', 'confirmed_model_with_confinement'],\n",
    "                 grid=True, ax=ax[0])\n",
    "    ax[0].set_ylim(0, 1.5*df[mask]['confirmed_computed'].max())\n",
    "    \n",
    "    df[mask].plot(x='date', y='deaths', grid=True, ax=ax[1])\n",
    "    df_tmp.plot(kind='line',\n",
    "                 x='date',\n",
    "                 y=['deaths_model', 'deaths_model_with_confinement'],\n",
    "                 grid=True, ax=ax[1])\n",
    "    ax[1].set_ylim(0, 1.5*df[mask]['deaths'].max())\n",
    "\n",
    "options = list(patient_zero)\n",
    "options.sort()\n",
    "    \n",
    "selection_slider = widgets.Dropdown(\n",
    "    options=options,\n",
    "    value='France',\n",
    "    description='Country',\n",
    "    disabled=False,\n",
    ")\n",
    "\n",
    "selection_slider_m1 = widgets.FloatSlider(\n",
    "    value=2.0,\n",
    "    min=1.0,\n",
    "    max=3.0,\n",
    "    step=0.1,\n",
    "    description='R0 before confinement:',\n",
    "    layout={'width': '400px'},\n",
    "    style = {'description_width': 'initial'}\n",
    ")\n",
    "\n",
    "selection_slider_m2 = widgets.FloatSlider(\n",
    "    value=1.2,\n",
    "    min=0.5,\n",
    "    max=3.0,\n",
    "    step=0.1,\n",
    "    description='R0 after confinement:',\n",
    "    layout={'width': '400px'},\n",
    "    style = {'description_width': 'initial'}, \n",
    ")\n",
    "\n",
    "selection_slider_delta_days = widgets.IntSlider(\n",
    "    value=6,\n",
    "    min=0,\n",
    "    max=15,\n",
    "    step=3,\n",
    "    description='confinement delay:',\n",
    "    layout={'width': '400px'},\n",
    "    style = {'description_width': 'initial'},\n",
    ")\n",
    "\n",
    "interact(plot_with_model,\n",
    "         country=selection_slider,\n",
    "         m1=selection_slider_m1,\n",
    "         m2=selection_slider_m2,\n",
    "         delta_days=selection_slider_delta_days,\n",
    "        )\n"
   ]
  },
  {
   "cell_type": "code",
   "execution_count": null,
   "metadata": {},
   "outputs": [],
   "source": []
  }
 ],
 "metadata": {
  "kernelspec": {
   "display_name": "Python 3",
   "language": "python",
   "name": "python3"
  },
  "language_info": {
   "codemirror_mode": {
    "name": "ipython",
    "version": 3
   },
   "file_extension": ".py",
   "mimetype": "text/x-python",
   "name": "python",
   "nbconvert_exporter": "python",
   "pygments_lexer": "ipython3",
   "version": "3.6.10"
  }
 },
 "nbformat": 4,
 "nbformat_minor": 2
}
