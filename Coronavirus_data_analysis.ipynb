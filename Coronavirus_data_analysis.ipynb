{
 "cells": [
  {
   "cell_type": "markdown",
   "metadata": {},
   "source": [
    "# 1-Import library"
   ]
  },
  {
   "cell_type": "code",
   "execution_count": 353,
   "metadata": {},
   "outputs": [],
   "source": [
    "import os\n",
    "import datetime\n",
    "import pandas as pd\n",
    "import numpy as np\n",
    "from scipy.signal import savgol_filter\n",
    "import matplotlib as mpl\n",
    "import matplotlib.pyplot as plt\n",
    "import matplotlib.dates as mdates\n",
    "from matplotlib import cm\n",
    "import math\n",
    "%matplotlib inline\n",
    "\n",
    "from ipywidgets import interact, interactive, fixed, interact_manual\n",
    "import ipywidgets as widgets\n",
    "\n",
    "import cartopy.crs as ccrs\n",
    "import cartopy.feature as cfeature\n",
    "import cartopy.io.shapereader as shpreader"
   ]
  },
  {
   "cell_type": "markdown",
   "metadata": {},
   "source": [
    "# 2- Import and wrangle data"
   ]
  },
  {
   "cell_type": "code",
   "execution_count": 354,
   "metadata": {},
   "outputs": [],
   "source": [
    "BASE_URL = 'https://raw.githubusercontent.com/CSSEGISandData/COVID-19/master/csse_covid_19_data/csse_covid_19_time_series/'"
   ]
  },
  {
   "cell_type": "markdown",
   "metadata": {},
   "source": [
    "## Import Confirmed, Recovered and Deaths <br>"
   ]
  },
  {
   "cell_type": "code",
   "execution_count": 355,
   "metadata": {},
   "outputs": [],
   "source": [
    "df_dict={}\n",
    "for value_name in ['confirmed', 'deaths']:\n",
    "    df = pd.read_csv(os.path.join(BASE_URL, 'time_series_covid19_{}_global.csv'.format(value_name)))\n",
    "\n",
    "    df_value = df.drop(['Province/State', 'Lat', 'Long'], axis=1) \\\n",
    "                 .groupby(by='Country/Region') \\\n",
    "                 .agg('sum') \\\n",
    "                 .reset_index()\n",
    "\n",
    "    date_list = df_value.columns.values.tolist()\n",
    "    date_list.remove('Country/Region')\n",
    "    df_value = pd.melt(df_value,\n",
    "                       id_vars=['Country/Region'],\n",
    "                       value_vars=date_list,\n",
    "                       value_name=value_name,\n",
    "                       var_name='date')\n",
    "    df_value['date'] = pd.to_datetime(df_value['date'])\n",
    "\n",
    "    df_dict[value_name] = df_value\n",
    "    "
   ]
  },
  {
   "cell_type": "markdown",
   "metadata": {},
   "source": [
    "## Merge and order data by country and date <br>"
   ]
  },
  {
   "cell_type": "code",
   "execution_count": 356,
   "metadata": {},
   "outputs": [],
   "source": [
    "df = pd.merge(df_dict['confirmed'], df_dict['deaths'], on=['Country/Region', 'date'])\n",
    "df.sort_values(by=['Country/Region', 'date'], inplace=True)"
   ]
  },
  {
   "cell_type": "markdown",
   "metadata": {},
   "source": [
    "## Enrich with latitude and longitude of each country <br>"
   ]
  },
  {
   "cell_type": "code",
   "execution_count": 357,
   "metadata": {},
   "outputs": [
    {
     "name": "stdout",
     "output_type": "stream",
     "text": [
      "8           Australia\n",
      "32             Canada\n",
      "36              China\n",
      "46            Denmark\n",
      "61             France\n",
      "120       Netherlands\n",
      "175    United Kingdom\n",
      "Name: Country/Region, dtype: object\n"
     ]
    }
   ],
   "source": [
    "coordinate_dict = {'Australia': (-25, 133),\n",
    "                   'Canada': (56, -106),\n",
    "                   'China': (36, 104),\n",
    "                   'Denmark': (55, 12),\n",
    "                   'France': (46, 2),\n",
    "                   'Netherlands': (52, 5),\n",
    "                   'US': (37, -95),\n",
    "                   'United Kingdom': (55, -3),\n",
    "                  }\n",
    "\n",
    "def coordinate_mod(df, coordinate_dict):\n",
    "    if df['Country/Region'] in coordinate_dict:\n",
    "        df['Lat'] = coordinate_dict[df['Country/Region']][0]\n",
    "        df['Long'] = coordinate_dict[df['Country/Region']][1]\n",
    "    return df\n",
    "\n",
    "df_country = pd.read_csv(os.path.join(BASE_URL, 'time_series_covid19_confirmed_global.csv'))\n",
    "df_country = df_country.groupby(by='Country/Region') \\\n",
    "                   .agg({'Lat':'first', 'Long': 'first', 'Province/State': 'first'}) \\\n",
    "                   .reset_index()\n",
    "\n",
    "print(df_country.dropna()['Country/Region'])\n",
    "\n",
    "df_country = df_country.apply(lambda x : coordinate_mod(x, coordinate_dict), axis=1) \\\n",
    "                       .drop(['Province/State'], axis=1)\n",
    "\n",
    "df = pd.merge(df, df_country, on='Country/Region')"
   ]
  },
  {
   "cell_type": "code",
   "execution_count": 358,
   "metadata": {},
   "outputs": [],
   "source": [
    "def rename_country(df):\n",
    "    if df in country:\n",
    "        return country[df]\n",
    "    else:\n",
    "        return df\n",
    "\n",
    "country={\n",
    "    'US': 'United States of America',\n",
    "    'Western Sahara': 'W. Sahara',\n",
    "    'Congo (Kinshasa)': 'Dem. Rep. Congo',\n",
    "    'Dominican Republic': 'Dominican Rep.',\n",
    "    \"Cote d'Ivoire\": \"Côte d'Ivoire\",\n",
    "    'Central African Republic': 'Central African Rep.',\n",
    "    'Korea, South': 'South Korea',\n",
    "    'Taiwan*': 'Taiwan'\n",
    "}\n",
    "\n",
    "\n",
    "df['Country/Region'] = df['Country/Region'].apply(lambda x: rename_country(x))\n"
   ]
  },
  {
   "cell_type": "code",
   "execution_count": 359,
   "metadata": {},
   "outputs": [
    {
     "name": "stdout",
     "output_type": "stream",
     "text": [
      "Falkland Is. is not in df\n",
      "Greenland is not in df\n",
      "Fr. S. Antarctic Lands is not in df\n",
      "Lesotho is not in df\n",
      "Puerto Rico is not in df\n",
      "Congo is not in df\n",
      "Eq. Guinea is not in df\n",
      "eSwatini is not in df\n",
      "Palestine is not in df\n",
      "Vanuatu is not in df\n",
      "Myanmar is not in df\n",
      "North Korea is not in df\n",
      "Tajikistan is not in df\n",
      "Turkmenistan is not in df\n",
      "New Caledonia is not in df\n",
      "Solomon Is. is not in df\n",
      "Yemen is not in df\n",
      "Antarctica is not in df\n",
      "N. Cyprus is not in df\n",
      "Somaliland is not in df\n",
      "Bosnia and Herz. is not in df\n",
      "Macedonia is not in df\n",
      "S. Sudan is not in df\n"
     ]
    }
   ],
   "source": [
    "shpfilename = shpreader.natural_earth(resolution='110m',\n",
    "                                      category='cultural',\n",
    "                                      name='admin_0_countries')\n",
    "reader = shpreader.Reader(shpfilename)\n",
    "countries = reader.records()\n",
    "\n",
    "for country in countries:\n",
    "    population[country.attributes['NAME']]=country.attributes['POP_EST']\n",
    "    if not country.attributes['NAME'] in df['Country/Region'].unique():\n",
    "        print('{} is not in df'.format(country.attributes['NAME']))"
   ]
  },
  {
   "cell_type": "markdown",
   "metadata": {},
   "source": [
    "## Enrich with continent for each country"
   ]
  },
  {
   "cell_type": "code",
   "execution_count": 360,
   "metadata": {},
   "outputs": [],
   "source": [
    "continent = {'Afghanistan': 'Asia',\n",
    "             'Albania': 'Europe',\n",
    "             'Algeria': 'Africa',\n",
    "             'Andorra': 'Europe',\n",
    "             'Angola': 'Africa',\n",
    "             'Antigua and Barbuda': 'North America',\n",
    "             'Argentina': 'South America',\n",
    "             'Armenia': 'Europe',\n",
    "             'Australia': 'Oceania',\n",
    "             'Austria': 'Europe',\n",
    "             'Azerbaijan': 'Europe',\n",
    "             'Bahamas': 'North America',\n",
    "             'Bahrain': 'Asia',\n",
    "             'Bangladesh': 'Asia',\n",
    "             'Barbados': 'North America',\n",
    "             'Belarus': 'Europe',\n",
    "             'Belize': 'South America',\n",
    "             'Belgium': 'Europe',\n",
    "             'Benin': 'Africa',\n",
    "             'Bhutan': 'Asia',\n",
    "             'Bolivia': 'South America',\n",
    "             'Bosnia and Herzegovina': 'Europe',\n",
    "             'Botswana': 'Africa',\n",
    "             'Brazil': 'South America',\n",
    "             'Brunei': 'Asia',\n",
    "             'Bulgaria': 'Europe',\n",
    "             'Burkina Faso': 'Africa',\n",
    "             'Burma': 'Asia',\n",
    "             'Burundi': 'Africa',\n",
    "             'Cabo Verde': 'Africa',\n",
    "             'Cambodia': 'Asia',\n",
    "             'Cameroon': 'Africa',\n",
    "             'Canada': 'North America',\n",
    "             'Central African Rep.': 'Africa',\n",
    "             'Chad': 'Africa',\n",
    "             'Chile': 'South America',\n",
    "             'China': 'Asia',\n",
    "             'Colombia': 'South America',\n",
    "             'Congo (Brazzaville)': 'Africa',\n",
    "             'Dem. Rep. Congo': 'Africa',\n",
    "             'Costa Rica': 'North America',\n",
    "             \"Côte d'Ivoire\": 'Africa',\n",
    "             'Croatia': 'Europe',\n",
    "             'Cruise Ship': 'Asia',\n",
    "             'Cuba': 'North America',\n",
    "             'Cyprus': 'Europe',\n",
    "             'Czechia': 'Europe',\n",
    "             'Denmark': 'Europe',\n",
    "             'Diamond Princess': 'Ship',\n",
    "             'Djibouti': 'Africa',\n",
    "             'Dominica': 'North America',\n",
    "             'Dominican Rep.': 'North America',\n",
    "             'Ecuador': 'South America',\n",
    "             'Egypt': 'Africa',\n",
    "             'El Salvador': 'South America',\n",
    "             'Equatorial Guinea': 'Africa',\n",
    "             'Eritrea': 'Africa',\n",
    "             'Estonia': 'Europe',\n",
    "             'Eswatini': 'Africa',\n",
    "             'Ethiopia': 'Europe',\n",
    "             'Fiji': 'Oceania',\n",
    "             'Finland': 'Europe',\n",
    "             'France': 'Europe',\n",
    "             'Gabon': 'Africa',\n",
    "             'Gambia': 'Africa',\n",
    "             'Georgia': 'Europe',\n",
    "             'Germany': 'Europe',\n",
    "             'Ghana': 'Africa',\n",
    "             'Greece': 'Europe',\n",
    "             'Greenland': 'North America',\n",
    "             'Grenada': 'North America',\n",
    "             'Guatemala': 'North America',\n",
    "             'Guinea': 'Africa',\n",
    "             'Guinea-Bissau': 'Africa',\n",
    "             'Guyana': 'South America',\n",
    "             'Haiti': 'North America',\n",
    "             'Holy See': 'Europe',\n",
    "             'Honduras': 'South America',\n",
    "             'Hungary': 'Europe',\n",
    "             'Iceland': 'Europe',\n",
    "             'India': 'Asia',\n",
    "             'Indonesia': 'Asia',\n",
    "             'Iran': 'Asia',\n",
    "             'Iraq': 'Asia',\n",
    "             'Ireland': 'Europe',\n",
    "             'Israel': 'Asia',\n",
    "             'Italy': 'Europe',\n",
    "             'Jamaica': 'North America',\n",
    "             'Japan': 'Asia',\n",
    "             'Jordan': 'Asia',\n",
    "             'Kazakhstan': 'Asia',\n",
    "             'Kenya': 'Africa',\n",
    "             'South Korea': 'Asia',\n",
    "             'Kosovo': 'Europe',\n",
    "             'Kuwait': 'Asia',\n",
    "             'Kyrgyzstan': 'Asia',\n",
    "             'Laos': 'Asia',\n",
    "             'Latvia': 'Europe',\n",
    "             'Lebanon': 'Asia',\n",
    "             'Liberia': 'Africa',\n",
    "             'Libya': 'Africa',\n",
    "             'Liechtenstein': 'Europe',\n",
    "             'Lithuania': 'Europe',\n",
    "             'Luxembourg': 'Europe',\n",
    "             'MS Zaandam': 'Ship', \n",
    "             'Madagascar': 'Africa',\n",
    "             'Malawi': 'Africa',\n",
    "             'Malaysia': 'Asia',\n",
    "             'Mali': 'Africa',\n",
    "             'Maldives': 'Asia',\n",
    "             'Malta': 'Europe',\n",
    "             'Martinique': 'North America',\n",
    "             'Mauritania': 'Africa',\n",
    "             'Mauritius': 'Africa',\n",
    "             'Mexico': 'North America',\n",
    "             'Moldova': 'Europe',\n",
    "             'Monaco': 'Europe',\n",
    "             'Mongolia': 'Asia',\n",
    "             'Montenegro': 'Europe',\n",
    "             'Morocco': 'Africa',\n",
    "             'Mozambique': 'Africa',\n",
    "             'Namibia': 'Africa',\n",
    "             'Nepal': 'Asia',\n",
    "             'Netherlands': 'Europe',\n",
    "             'New Zealand': 'Oceania',\n",
    "             'Nicaragua': 'South America',\n",
    "             'Niger': 'Africa',\n",
    "             'Nigeria': 'Africa',\n",
    "             'North Macedonia': 'Europe',\n",
    "             'Norway': 'Europe',\n",
    "             'Oman': 'Africa',\n",
    "             'Pakistan': 'Asia',\n",
    "             'Panama': 'North America',\n",
    "             'Papua New Guinea': 'Asia',\n",
    "             'Paraguay': 'South America',\n",
    "             'Peru': 'South America',\n",
    "             'Philippines': 'Asia',\n",
    "             'Poland': 'Europe',\n",
    "             'Portugal': 'Europe',\n",
    "             'Qatar': 'Asia',\n",
    "             'Romania': 'Europe',\n",
    "             'Russia': 'Europe',\n",
    "             'Rwanda': 'Africa',\n",
    "             'Saint Kitts and Nevis': 'North America',\n",
    "             'Saint Lucia': 'North America',\n",
    "             'Saint Vincent and the Grenadines': 'North America',\n",
    "             'San Marino': 'Europe',\n",
    "             'Sao Tome and Principe': 'Africa',\n",
    "             'Saudi Arabia': 'Asia',\n",
    "             'Senegal': 'Africa',\n",
    "             'Serbia': 'Europe',\n",
    "             'Seychelles': 'Africa',\n",
    "             'Sierra Leone': 'Africa',\n",
    "             'Singapore': 'Asia',\n",
    "             'Slovakia': 'Europe',\n",
    "             'Slovenia': 'Europe',\n",
    "             'Somalia': 'Africa',\n",
    "             'South Africa': 'Africa',\n",
    "             'South Sudan': 'Africa',\n",
    "             'Spain': 'Europe',\n",
    "             'Sri Lanka': 'Africa',\n",
    "             'Sudan': 'Africa',\n",
    "             'Suriname': 'South America',\n",
    "             'Sweden': 'Europe',\n",
    "             'Switzerland': 'Europe',\n",
    "             'Syria': 'Africa',\n",
    "             'Taiwan': 'Asia',\n",
    "             'Tanzania': 'Africa',\n",
    "             'Thailand': 'Asia',\n",
    "             'The Bahamas': 'North America',\n",
    "             'Timor-Leste': 'Asia',\n",
    "             'Togo': 'Africa',\n",
    "             'Trinidad and Tobago': 'North America',\n",
    "             'Tunisia': 'Africa',\n",
    "             'Turkey': 'Europe',\n",
    "             'United States of America': 'North America',\n",
    "             'Uganda': 'Africa',\n",
    "             'Ukraine': 'Europe',\n",
    "             'United Arab Emirates': 'Asia',\n",
    "             'United Kingdom': 'Europe',\n",
    "             'Uruguay': 'South America',\n",
    "             'Uzbekistan': 'Asia',\n",
    "             'Venezuela': 'South America',\n",
    "             'Vietnam': 'Asia',\n",
    "             'West Bank and Gaza':'Asia', \n",
    "             'W. Sahara': 'Africa',\n",
    "             'Zambia': 'Africa',\n",
    "             'Zimbabwe': 'Africa'\n",
    "              }\n",
    "\n",
    "df['continent'] = df['Country/Region'].map(continent)"
   ]
  },
  {
   "cell_type": "code",
   "execution_count": 361,
   "metadata": {},
   "outputs": [
    {
     "data": {
      "text/plain": [
       "array([], dtype=object)"
      ]
     },
     "execution_count": 361,
     "metadata": {},
     "output_type": "execute_result"
    }
   ],
   "source": [
    "df[df['continent'].isnull()]['Country/Region'].unique()"
   ]
  },
  {
   "cell_type": "markdown",
   "metadata": {},
   "source": [
    "## Enrich with population"
   ]
  },
  {
   "cell_type": "code",
   "execution_count": 362,
   "metadata": {},
   "outputs": [],
   "source": [
    "df['population'] = df['Country/Region'].map(population)"
   ]
  },
  {
   "cell_type": "markdown",
   "metadata": {},
   "source": [
    "## Smooth and derive"
   ]
  },
  {
   "cell_type": "code",
   "execution_count": 363,
   "metadata": {},
   "outputs": [],
   "source": [
    "def smooth_data(df, param):\n",
    "    try:\n",
    "        df[param] = savgol_filter(df[param] , 7, 3)\n",
    "    except:\n",
    "        pass\n",
    "    return df"
   ]
  },
  {
   "cell_type": "code",
   "execution_count": 364,
   "metadata": {},
   "outputs": [],
   "source": [
    "def derive_data(df, param):\n",
    "    try:\n",
    "        df[param + '_derive'] = savgol_filter(df[param] , 7, 3, deriv=1)\n",
    "    except:\n",
    "        df[param + '_derive'] = df[param] - df[param].shift(1)\n",
    "    return df"
   ]
  },
  {
   "cell_type": "code",
   "execution_count": 365,
   "metadata": {},
   "outputs": [],
   "source": [
    "def confirmed_computed(df):\n",
    "    df['confirmed_computed'] = df['deaths'].shift(-6, fill_value=0) / 0.01\n",
    "    df['confirmed_ratio'] = 10.\n",
    "    for i in df.index:\n",
    "        if (df.loc[i, 'confirmed_computed']==0) & (i>df.index.min()):\n",
    "            df.loc[i, 'confirmed_ratio'] = df.loc[i-1, 'confirmed_computed'] / df.loc[i-1, 'confirmed']\n",
    "            df.loc[i, 'confirmed_computed'] = df.loc[i-1, 'confirmed_computed'] + df.loc[i, 'confirmed_derive'] * df.loc[i,'confirmed_ratio']\n",
    "    return df"
   ]
  },
  {
   "cell_type": "code",
   "execution_count": 366,
   "metadata": {},
   "outputs": [],
   "source": [
    "for param in ['confirmed', 'deaths']:\n",
    "    df = df.groupby('Country/Region').apply(lambda x: smooth_data(x, param))\n",
    "    df = df.groupby('Country/Region').apply(lambda x: derive_data(x, param))"
   ]
  },
  {
   "cell_type": "code",
   "execution_count": 367,
   "metadata": {},
   "outputs": [
    {
     "name": "stderr",
     "output_type": "stream",
     "text": [
      "/Users/thomas/anaconda3/envs/corona_env/lib/python3.7/site-packages/ipykernel_launcher.py:6: RuntimeWarning: invalid value encountered in double_scalars\n",
      "  \n"
     ]
    }
   ],
   "source": [
    "df = df.groupby('Country/Region').apply(lambda x: confirmed_computed(x))\n",
    "df = df.groupby('Country/Region').apply(lambda x: smooth_data(x, 'confirmed_computed'))\n",
    "df = df.groupby('Country/Region').apply(lambda x: derive_data(x, 'confirmed_computed'))"
   ]
  },
  {
   "cell_type": "markdown",
   "metadata": {},
   "source": [
    "## Enrich with mortality"
   ]
  },
  {
   "cell_type": "code",
   "execution_count": 368,
   "metadata": {},
   "outputs": [],
   "source": [
    "df['mortality'] = df['deaths'] / df['confirmed'] * 100"
   ]
  },
  {
   "cell_type": "markdown",
   "metadata": {},
   "source": [
    "## Enrich with patient zero and confinement date for each country"
   ]
  },
  {
   "cell_type": "code",
   "execution_count": 369,
   "metadata": {},
   "outputs": [],
   "source": [
    "patient_zero = {'China': pd.to_datetime(\"2020-01-06\"),\n",
    "               'Italy': pd.to_datetime(\"2020-02-11\"),\n",
    "               'Iran': pd.to_datetime(\"2020-02-12\"),\n",
    "               'South Korea': pd.to_datetime(\"2020-02-09\"),\n",
    "               'Spain': pd.to_datetime(\"2020-02-18\"),\n",
    "               'France': pd.to_datetime(\"2020-02-22\"),\n",
    "               'Germany': pd.to_datetime(\"2020-03-01\"),\n",
    "               'United States of America': pd.to_datetime(\"2020-02-24\"),\n",
    "               'United Kingdom': pd.to_datetime(\"2020-02-26\"),\n",
    "               'Netherlands': pd.to_datetime(\"2020-02-29\"),\n",
    "               'Belgium': pd.to_datetime(\"2020-03-02\"),\n",
    "               'Switzerland': pd.to_datetime(\"2020-03-01\"),\n",
    "               'Brazil': pd.to_datetime(\"2020-03-06\"),\n",
    "               'Turkey': pd.to_datetime(\"2020-03-06\"),\n",
    "               'Sweden': pd.to_datetime(\"2020-03-06\"),\n",
    "               'Indonesia': pd.to_datetime(\"2020-03-06\"),\n",
    "               'Portugal': pd.to_datetime(\"2020-03-07\"),\n",
    "               'Philippines': pd.to_datetime(\"2020-03-06\"),\n",
    "               'Austria': pd.to_datetime(\"2020-03-08\"),\n",
    "               'Denmark': pd.to_datetime(\"2020-03-08\"),\n",
    "              }\n",
    "\n",
    "confinement = {'China': pd.to_datetime(\"2020-01-23\"),\n",
    "               'Italy': pd.to_datetime(\"2020-03-08\"),\n",
    "               'Spain': pd.to_datetime(\"2020-03-14\"),\n",
    "               'France': pd.to_datetime(\"2020-03-16\"),\n",
    "               'Germany': pd.to_datetime(\"2020-03-22\"),\n",
    "               'United States of America': pd.to_datetime(\"2020-03-20\"),\n",
    "               'United Kingdom': pd.to_datetime(\"2020-03-23\"),\n",
    "               'Netherlands': pd.to_datetime(\"2020-03-23\"),\n",
    "               'Belgium': pd.to_datetime(\"2020-03-18\"),\n",
    "               'Switzerland': pd.to_datetime(\"2020-03-16\"),\n",
    "               'Turkey': pd.to_datetime(\"2020-03-27\"),\n",
    "               'Indonesia': pd.to_datetime(\"2020-03-29\"),\n",
    "               'Portugal': pd.to_datetime(\"2020-03-20\"),\n",
    "               'Philippines': pd.to_datetime(\"2020-03-16\"),\n",
    "               'Austria': pd.to_datetime(\"2020-03-16\"),\n",
    "               'Denmark': pd.to_datetime(\"2020-03-11\"),\n",
    "              }\n",
    "\n",
    "df['patient_zero'] = df['Country/Region'].map(patient_zero)\n",
    "df['confinement'] = df['Country/Region'].map(confinement)\n",
    "df['contagion_days'] = (df['date'] - df['patient_zero']) / pd.to_timedelta(1, unit='D')\n",
    "df['contagion_days_confinement'] = (df['confinement'] - df['patient_zero']) / pd.to_timedelta(1, unit='D')"
   ]
  },
  {
   "cell_type": "markdown",
   "metadata": {},
   "source": [
    "## Enrich per capita"
   ]
  },
  {
   "cell_type": "code",
   "execution_count": 370,
   "metadata": {},
   "outputs": [],
   "source": [
    "df['confirmed_per_cap'] = df['confirmed'] / df['population'] * 10000\n",
    "df['confirmed_computed_per_cap'] = df['confirmed_computed'] / df['population'] * 10000\n",
    "df['deaths_per_cap'] = df['deaths'] / df['population'] * 10000"
   ]
  },
  {
   "cell_type": "markdown",
   "metadata": {},
   "source": [
    "## Display some data"
   ]
  },
  {
   "cell_type": "code",
   "execution_count": 371,
   "metadata": {},
   "outputs": [
    {
     "data": {
      "text/html": [
       "<div>\n",
       "<style scoped>\n",
       "    .dataframe tbody tr th:only-of-type {\n",
       "        vertical-align: middle;\n",
       "    }\n",
       "\n",
       "    .dataframe tbody tr th {\n",
       "        vertical-align: top;\n",
       "    }\n",
       "\n",
       "    .dataframe thead th {\n",
       "        text-align: right;\n",
       "    }\n",
       "</style>\n",
       "<table border=\"1\" class=\"dataframe\">\n",
       "  <thead>\n",
       "    <tr style=\"text-align: right;\">\n",
       "      <th></th>\n",
       "      <th>Country/Region</th>\n",
       "      <th>date</th>\n",
       "      <th>confirmed</th>\n",
       "      <th>deaths</th>\n",
       "      <th>Lat</th>\n",
       "      <th>Long</th>\n",
       "      <th>continent</th>\n",
       "      <th>population</th>\n",
       "      <th>confirmed_derive</th>\n",
       "      <th>deaths_derive</th>\n",
       "      <th>...</th>\n",
       "      <th>confirmed_ratio</th>\n",
       "      <th>confirmed_computed_derive</th>\n",
       "      <th>mortality</th>\n",
       "      <th>patient_zero</th>\n",
       "      <th>confinement</th>\n",
       "      <th>contagion_days</th>\n",
       "      <th>contagion_days_confinement</th>\n",
       "      <th>confirmed_per_cap</th>\n",
       "      <th>confirmed_computed_per_cap</th>\n",
       "      <th>deaths_per_cap</th>\n",
       "    </tr>\n",
       "  </thead>\n",
       "  <tbody>\n",
       "    <tr>\n",
       "      <th>0</th>\n",
       "      <td>Afghanistan</td>\n",
       "      <td>2020-01-22</td>\n",
       "      <td>0.0</td>\n",
       "      <td>0.0</td>\n",
       "      <td>33.0</td>\n",
       "      <td>65.0</td>\n",
       "      <td>Asia</td>\n",
       "      <td>34124811.0</td>\n",
       "      <td>0.0</td>\n",
       "      <td>0.0</td>\n",
       "      <td>...</td>\n",
       "      <td>10.0</td>\n",
       "      <td>NaN</td>\n",
       "      <td>NaN</td>\n",
       "      <td>NaT</td>\n",
       "      <td>NaT</td>\n",
       "      <td>NaN</td>\n",
       "      <td>NaN</td>\n",
       "      <td>0.0</td>\n",
       "      <td>0.0</td>\n",
       "      <td>0.0</td>\n",
       "    </tr>\n",
       "    <tr>\n",
       "      <th>1</th>\n",
       "      <td>Afghanistan</td>\n",
       "      <td>2020-01-23</td>\n",
       "      <td>0.0</td>\n",
       "      <td>0.0</td>\n",
       "      <td>33.0</td>\n",
       "      <td>65.0</td>\n",
       "      <td>Asia</td>\n",
       "      <td>34124811.0</td>\n",
       "      <td>0.0</td>\n",
       "      <td>0.0</td>\n",
       "      <td>...</td>\n",
       "      <td>NaN</td>\n",
       "      <td>NaN</td>\n",
       "      <td>NaN</td>\n",
       "      <td>NaT</td>\n",
       "      <td>NaT</td>\n",
       "      <td>NaN</td>\n",
       "      <td>NaN</td>\n",
       "      <td>0.0</td>\n",
       "      <td>NaN</td>\n",
       "      <td>0.0</td>\n",
       "    </tr>\n",
       "    <tr>\n",
       "      <th>2</th>\n",
       "      <td>Afghanistan</td>\n",
       "      <td>2020-01-24</td>\n",
       "      <td>0.0</td>\n",
       "      <td>0.0</td>\n",
       "      <td>33.0</td>\n",
       "      <td>65.0</td>\n",
       "      <td>Asia</td>\n",
       "      <td>34124811.0</td>\n",
       "      <td>0.0</td>\n",
       "      <td>0.0</td>\n",
       "      <td>...</td>\n",
       "      <td>NaN</td>\n",
       "      <td>NaN</td>\n",
       "      <td>NaN</td>\n",
       "      <td>NaT</td>\n",
       "      <td>NaT</td>\n",
       "      <td>NaN</td>\n",
       "      <td>NaN</td>\n",
       "      <td>0.0</td>\n",
       "      <td>NaN</td>\n",
       "      <td>0.0</td>\n",
       "    </tr>\n",
       "    <tr>\n",
       "      <th>3</th>\n",
       "      <td>Afghanistan</td>\n",
       "      <td>2020-01-25</td>\n",
       "      <td>0.0</td>\n",
       "      <td>0.0</td>\n",
       "      <td>33.0</td>\n",
       "      <td>65.0</td>\n",
       "      <td>Asia</td>\n",
       "      <td>34124811.0</td>\n",
       "      <td>0.0</td>\n",
       "      <td>0.0</td>\n",
       "      <td>...</td>\n",
       "      <td>NaN</td>\n",
       "      <td>NaN</td>\n",
       "      <td>NaN</td>\n",
       "      <td>NaT</td>\n",
       "      <td>NaT</td>\n",
       "      <td>NaN</td>\n",
       "      <td>NaN</td>\n",
       "      <td>0.0</td>\n",
       "      <td>NaN</td>\n",
       "      <td>0.0</td>\n",
       "    </tr>\n",
       "    <tr>\n",
       "      <th>4</th>\n",
       "      <td>Afghanistan</td>\n",
       "      <td>2020-01-26</td>\n",
       "      <td>0.0</td>\n",
       "      <td>0.0</td>\n",
       "      <td>33.0</td>\n",
       "      <td>65.0</td>\n",
       "      <td>Asia</td>\n",
       "      <td>34124811.0</td>\n",
       "      <td>0.0</td>\n",
       "      <td>0.0</td>\n",
       "      <td>...</td>\n",
       "      <td>NaN</td>\n",
       "      <td>NaN</td>\n",
       "      <td>NaN</td>\n",
       "      <td>NaT</td>\n",
       "      <td>NaT</td>\n",
       "      <td>NaN</td>\n",
       "      <td>NaN</td>\n",
       "      <td>0.0</td>\n",
       "      <td>NaN</td>\n",
       "      <td>0.0</td>\n",
       "    </tr>\n",
       "  </tbody>\n",
       "</table>\n",
       "<p>5 rows × 21 columns</p>\n",
       "</div>"
      ],
      "text/plain": [
       "  Country/Region       date  confirmed  deaths   Lat  Long continent  \\\n",
       "0    Afghanistan 2020-01-22        0.0     0.0  33.0  65.0      Asia   \n",
       "1    Afghanistan 2020-01-23        0.0     0.0  33.0  65.0      Asia   \n",
       "2    Afghanistan 2020-01-24        0.0     0.0  33.0  65.0      Asia   \n",
       "3    Afghanistan 2020-01-25        0.0     0.0  33.0  65.0      Asia   \n",
       "4    Afghanistan 2020-01-26        0.0     0.0  33.0  65.0      Asia   \n",
       "\n",
       "   population  confirmed_derive  deaths_derive  ...  confirmed_ratio  \\\n",
       "0  34124811.0               0.0            0.0  ...             10.0   \n",
       "1  34124811.0               0.0            0.0  ...              NaN   \n",
       "2  34124811.0               0.0            0.0  ...              NaN   \n",
       "3  34124811.0               0.0            0.0  ...              NaN   \n",
       "4  34124811.0               0.0            0.0  ...              NaN   \n",
       "\n",
       "   confirmed_computed_derive  mortality  patient_zero confinement  \\\n",
       "0                        NaN        NaN           NaT         NaT   \n",
       "1                        NaN        NaN           NaT         NaT   \n",
       "2                        NaN        NaN           NaT         NaT   \n",
       "3                        NaN        NaN           NaT         NaT   \n",
       "4                        NaN        NaN           NaT         NaT   \n",
       "\n",
       "  contagion_days  contagion_days_confinement  confirmed_per_cap  \\\n",
       "0            NaN                         NaN                0.0   \n",
       "1            NaN                         NaN                0.0   \n",
       "2            NaN                         NaN                0.0   \n",
       "3            NaN                         NaN                0.0   \n",
       "4            NaN                         NaN                0.0   \n",
       "\n",
       "   confirmed_computed_per_cap  deaths_per_cap  \n",
       "0                         0.0             0.0  \n",
       "1                         NaN             0.0  \n",
       "2                         NaN             0.0  \n",
       "3                         NaN             0.0  \n",
       "4                         NaN             0.0  \n",
       "\n",
       "[5 rows x 21 columns]"
      ]
     },
     "execution_count": 371,
     "metadata": {},
     "output_type": "execute_result"
    }
   ],
   "source": [
    "df.head()"
   ]
  },
  {
   "cell_type": "markdown",
   "metadata": {},
   "source": [
    "### List of countries"
   ]
  },
  {
   "cell_type": "code",
   "execution_count": 372,
   "metadata": {},
   "outputs": [
    {
     "data": {
      "text/plain": [
       "array(['Afghanistan', 'Albania', 'Algeria', 'Andorra', 'Angola',\n",
       "       'Antigua and Barbuda', 'Argentina', 'Armenia', 'Australia',\n",
       "       'Austria', 'Azerbaijan', 'Bahamas', 'Bahrain', 'Bangladesh',\n",
       "       'Barbados', 'Belarus', 'Belgium', 'Belize', 'Benin', 'Bhutan',\n",
       "       'Bolivia', 'Bosnia and Herzegovina', 'Botswana', 'Brazil',\n",
       "       'Brunei', 'Bulgaria', 'Burkina Faso', 'Burma', 'Burundi',\n",
       "       'Cabo Verde', 'Cambodia', 'Cameroon', 'Canada',\n",
       "       'Central African Rep.', 'Chad', 'Chile', 'China', 'Colombia',\n",
       "       'Congo (Brazzaville)', 'Dem. Rep. Congo', 'Costa Rica',\n",
       "       \"Côte d'Ivoire\", 'Croatia', 'Cuba', 'Cyprus', 'Czechia', 'Denmark',\n",
       "       'Diamond Princess', 'Djibouti', 'Dominica', 'Dominican Rep.',\n",
       "       'Ecuador', 'Egypt', 'El Salvador', 'Equatorial Guinea', 'Eritrea',\n",
       "       'Estonia', 'Eswatini', 'Ethiopia', 'Fiji', 'Finland', 'France',\n",
       "       'Gabon', 'Gambia', 'Georgia', 'Germany', 'Ghana', 'Greece',\n",
       "       'Grenada', 'Guatemala', 'Guinea', 'Guinea-Bissau', 'Guyana',\n",
       "       'Haiti', 'Holy See', 'Honduras', 'Hungary', 'Iceland', 'India',\n",
       "       'Indonesia', 'Iran', 'Iraq', 'Ireland', 'Israel', 'Italy',\n",
       "       'Jamaica', 'Japan', 'Jordan', 'Kazakhstan', 'Kenya', 'South Korea',\n",
       "       'Kosovo', 'Kuwait', 'Kyrgyzstan', 'Laos', 'Latvia', 'Lebanon',\n",
       "       'Liberia', 'Libya', 'Liechtenstein', 'Lithuania', 'Luxembourg',\n",
       "       'MS Zaandam', 'Madagascar', 'Malawi', 'Malaysia', 'Maldives',\n",
       "       'Mali', 'Malta', 'Mauritania', 'Mauritius', 'Mexico', 'Moldova',\n",
       "       'Monaco', 'Mongolia', 'Montenegro', 'Morocco', 'Mozambique',\n",
       "       'Namibia', 'Nepal', 'Netherlands', 'New Zealand', 'Nicaragua',\n",
       "       'Niger', 'Nigeria', 'North Macedonia', 'Norway', 'Oman',\n",
       "       'Pakistan', 'Panama', 'Papua New Guinea', 'Paraguay', 'Peru',\n",
       "       'Philippines', 'Poland', 'Portugal', 'Qatar', 'Romania', 'Russia',\n",
       "       'Rwanda', 'Saint Kitts and Nevis', 'Saint Lucia',\n",
       "       'Saint Vincent and the Grenadines', 'San Marino',\n",
       "       'Sao Tome and Principe', 'Saudi Arabia', 'Senegal', 'Serbia',\n",
       "       'Seychelles', 'Sierra Leone', 'Singapore', 'Slovakia', 'Slovenia',\n",
       "       'Somalia', 'South Africa', 'South Sudan', 'Spain', 'Sri Lanka',\n",
       "       'Sudan', 'Suriname', 'Sweden', 'Switzerland', 'Syria', 'Taiwan',\n",
       "       'Tanzania', 'Thailand', 'Timor-Leste', 'Togo',\n",
       "       'Trinidad and Tobago', 'Tunisia', 'Turkey',\n",
       "       'United States of America', 'Uganda', 'Ukraine',\n",
       "       'United Arab Emirates', 'United Kingdom', 'Uruguay', 'Uzbekistan',\n",
       "       'Venezuela', 'Vietnam', 'West Bank and Gaza', 'W. Sahara',\n",
       "       'Zambia', 'Zimbabwe'], dtype=object)"
      ]
     },
     "execution_count": 372,
     "metadata": {},
     "output_type": "execute_result"
    }
   ],
   "source": [
    "df['Country/Region'].unique()"
   ]
  },
  {
   "cell_type": "markdown",
   "metadata": {},
   "source": [
    "### List of countries with max deaths"
   ]
  },
  {
   "cell_type": "code",
   "execution_count": 373,
   "metadata": {},
   "outputs": [
    {
     "data": {
      "text/html": [
       "<div>\n",
       "<style scoped>\n",
       "    .dataframe tbody tr th:only-of-type {\n",
       "        vertical-align: middle;\n",
       "    }\n",
       "\n",
       "    .dataframe tbody tr th {\n",
       "        vertical-align: top;\n",
       "    }\n",
       "\n",
       "    .dataframe thead th {\n",
       "        text-align: right;\n",
       "    }\n",
       "</style>\n",
       "<table border=\"1\" class=\"dataframe\">\n",
       "  <thead>\n",
       "    <tr style=\"text-align: right;\">\n",
       "      <th></th>\n",
       "      <th>index</th>\n",
       "      <th>Country/Region</th>\n",
       "      <th>deaths</th>\n",
       "    </tr>\n",
       "  </thead>\n",
       "  <tbody>\n",
       "    <tr>\n",
       "      <th>0</th>\n",
       "      <td>84</td>\n",
       "      <td>Italy</td>\n",
       "      <td>17683.880952</td>\n",
       "    </tr>\n",
       "    <tr>\n",
       "      <th>1</th>\n",
       "      <td>156</td>\n",
       "      <td>Spain</td>\n",
       "      <td>14794.357143</td>\n",
       "    </tr>\n",
       "    <tr>\n",
       "      <th>2</th>\n",
       "      <td>175</td>\n",
       "      <td>United States of America</td>\n",
       "      <td>14718.476190</td>\n",
       "    </tr>\n",
       "    <tr>\n",
       "      <th>3</th>\n",
       "      <td>61</td>\n",
       "      <td>France</td>\n",
       "      <td>11002.833333</td>\n",
       "    </tr>\n",
       "    <tr>\n",
       "      <th>4</th>\n",
       "      <td>174</td>\n",
       "      <td>United Kingdom</td>\n",
       "      <td>7102.309524</td>\n",
       "    </tr>\n",
       "    <tr>\n",
       "      <th>5</th>\n",
       "      <td>80</td>\n",
       "      <td>Iran</td>\n",
       "      <td>3991.500000</td>\n",
       "    </tr>\n",
       "    <tr>\n",
       "      <th>6</th>\n",
       "      <td>36</td>\n",
       "      <td>China</td>\n",
       "      <td>3336.690476</td>\n",
       "    </tr>\n",
       "    <tr>\n",
       "      <th>7</th>\n",
       "      <td>65</td>\n",
       "      <td>Germany</td>\n",
       "      <td>2345.071429</td>\n",
       "    </tr>\n",
       "    <tr>\n",
       "      <th>8</th>\n",
       "      <td>119</td>\n",
       "      <td>Netherlands</td>\n",
       "      <td>2265.785714</td>\n",
       "    </tr>\n",
       "    <tr>\n",
       "      <th>9</th>\n",
       "      <td>16</td>\n",
       "      <td>Belgium</td>\n",
       "      <td>2265.642857</td>\n",
       "    </tr>\n",
       "  </tbody>\n",
       "</table>\n",
       "</div>"
      ],
      "text/plain": [
       "   index            Country/Region        deaths\n",
       "0     84                     Italy  17683.880952\n",
       "1    156                     Spain  14794.357143\n",
       "2    175  United States of America  14718.476190\n",
       "3     61                    France  11002.833333\n",
       "4    174            United Kingdom   7102.309524\n",
       "5     80                      Iran   3991.500000\n",
       "6     36                     China   3336.690476\n",
       "7     65                   Germany   2345.071429\n",
       "8    119               Netherlands   2265.785714\n",
       "9     16                   Belgium   2265.642857"
      ]
     },
     "execution_count": 373,
     "metadata": {},
     "output_type": "execute_result"
    }
   ],
   "source": [
    "df.groupby(by='Country/Region') \\\n",
    "  .agg({'deaths':'max'}) \\\n",
    "  .reset_index() \\\n",
    "  .sort_values(by='deaths', ascending=False) \\\n",
    "  .reset_index() \\\n",
    "  .head(10)"
   ]
  },
  {
   "cell_type": "markdown",
   "metadata": {},
   "source": [
    "# 3-Data analysis"
   ]
  },
  {
   "cell_type": "markdown",
   "metadata": {},
   "source": [
    "### Coronavirus spread in the world"
   ]
  },
  {
   "cell_type": "code",
   "execution_count": 374,
   "metadata": {},
   "outputs": [],
   "source": [
    "class MplColorHelper:\n",
    "\n",
    "  def __init__(self, cmap_name, start_val, stop_val):\n",
    "    self.cmap_name = cmap_name\n",
    "    self.cmap = plt.get_cmap(cmap_name)\n",
    "    self.norm = mpl.colors.Normalize(vmin=start_val, vmax=stop_val)\n",
    "    self.scalarMap = cm.ScalarMappable(norm=self.norm, cmap=self.cmap)\n",
    "\n",
    "  def get_rgb(self, val):\n",
    "    return self.scalarMap.to_rgba(val)\n"
   ]
  },
  {
   "cell_type": "code",
   "execution_count": 375,
   "metadata": {},
   "outputs": [
    {
     "data": {
      "application/vnd.jupyter.widget-view+json": {
       "model_id": "25765559d1004d048c93781c4ec636c9",
       "version_major": 2,
       "version_minor": 0
      },
      "text/plain": [
       "interactive(children=(SelectionSlider(description='Date', layout=Layout(width='500px'), options=(' 22 Jan 2020…"
      ]
     },
     "metadata": {},
     "output_type": "display_data"
    },
    {
     "data": {
      "text/plain": [
       "<function __main__.plot_contagion_world(date_string, param)>"
      ]
     },
     "execution_count": 375,
     "metadata": {},
     "output_type": "execute_result"
    }
   ],
   "source": [
    "def plot_contagion_world(date_string, param):\n",
    "    fig = plt.figure(figsize=(18, 20))\n",
    "    ax = fig.add_subplot(1, 1, 1, projection=ccrs.PlateCarree())\n",
    "    ax.set_extent([-180, 180, -60, 90], crs=ccrs.PlateCarree())\n",
    "\n",
    "    ax.add_feature(cfeature.LAND)\n",
    "    ax.add_feature(cfeature.OCEAN)\n",
    "    ax.add_feature(cfeature.COASTLINE)\n",
    "    ax.add_feature(cfeature.BORDERS, linestyle=':')\n",
    "    ax.add_feature(cfeature.LAKES, alpha=0.5)\n",
    "    ax.add_feature(cfeature.RIVERS)\n",
    "\n",
    "    mask_date = df['date'] == datetime.datetime.strptime(date_string, ' %d %b %Y ')\n",
    "    ax.text(0, 95, date_string, fontsize=20)\n",
    "\n",
    "    if param == 'confirmed':\n",
    "        COL = MplColorHelper('Reds', 0, 500000)\n",
    "    if param == 'confirmed_computed':\n",
    "        COL = MplColorHelper('Reds', 0, 5000000)\n",
    "    if param == 'deaths':\n",
    "        COL = MplColorHelper('Reds', 0, 20000)\n",
    "    if param == 'confirmed_per_cap':\n",
    "        COL = MplColorHelper('Reds', 0, 100)\n",
    "    if param == 'confirmed_computed_per_cap':\n",
    "        COL = MplColorHelper('Reds', 0, 1000)\n",
    "    if param == 'deaths_per_cap':\n",
    "        COL = MplColorHelper('Reds', 0, 4)\n",
    "    \n",
    "    shpfilename = shpreader.natural_earth(resolution='110m',\n",
    "                                      category='cultural',\n",
    "                                      name='admin_0_countries')\n",
    "    reader = shpreader.Reader(shpfilename)\n",
    "    countries = reader.records()\n",
    "    \n",
    "    for country in countries:\n",
    "        if country.attributes['NAME'] in df[mask_date]['Country/Region'].unique():\n",
    "            mask_country = df['Country/Region'] == country.attributes['NAME']\n",
    "            if not df[mask_date & mask_country].empty:\n",
    "                val = df[mask_date & mask_country][param].values[0]\n",
    "                ax.add_geometries(country.geometry, ccrs.PlateCarree(),\n",
    "                                  facecolor=COL.get_rgb(val),\n",
    "                                  edgecolor=(0,0,0)\n",
    "                                 )\n",
    "\n",
    "    plt.show()\n",
    "\n",
    "dates = pd.date_range(df['date'].min(), df['date'].max(), freq='D').tolist()\n",
    "options = [date.strftime(' %d %b %Y ') for date in dates]\n",
    "\n",
    "selection_slider = widgets.SelectionSlider(\n",
    "    options=options,\n",
    "    value=options[0],\n",
    "    description='Date',\n",
    "    orientation='horizontal',\n",
    "    layout={'width': '500px'}\n",
    ")\n",
    "\n",
    "options=['confirmed', 'confirmed_computed', 'deaths', 'confirmed_per_cap', 'confirmed_computed_per_cap', 'deaths_per_cap']\n",
    "\n",
    "selection_param = widgets.Dropdown(\n",
    "    options=options,\n",
    "    value=options[0],\n",
    "    description='Param',\n",
    "    disabled=False,\n",
    ")\n",
    "\n",
    "interact(plot_contagion_world, date_string = selection_slider, param=selection_param)\n",
    "\n",
    "# TODO add legend"
   ]
  },
  {
   "cell_type": "markdown",
   "metadata": {},
   "source": [
    "### Analysis by continent and top 10 countries in each continent"
   ]
  },
  {
   "cell_type": "code",
   "execution_count": 376,
   "metadata": {},
   "outputs": [
    {
     "data": {
      "application/vnd.jupyter.widget-view+json": {
       "model_id": "39457eeee91a45cea182be40efc092e4",
       "version_major": 2,
       "version_minor": 0
      },
      "text/plain": [
       "interactive(children=(Dropdown(description='Plot type', options=('Area', 'Line'), value='Area'), Dropdown(desc…"
      ]
     },
     "metadata": {},
     "output_type": "display_data"
    },
    {
     "data": {
      "text/plain": [
       "<function __main__.plot_contagion_by_continent(plot_type, analysis, param)>"
      ]
     },
     "execution_count": 376,
     "metadata": {},
     "output_type": "execute_result"
    }
   ],
   "source": [
    "def plot_contagion_by_continent(plot_type, analysis, param):\n",
    "    if analysis == 'Continent':\n",
    "        group = 'continent'\n",
    "        mask = pd.Series(True, index=np.arange(df.shape[0]))\n",
    "    if analysis == 'World':\n",
    "        group = 'Country/Region'\n",
    "        country_list = df.groupby(by='Country/Region') \\\n",
    "                         .agg({'deaths':'max'}) \\\n",
    "                         .sort_values(by='deaths', ascending=False) \\\n",
    "                         .head(10) \\\n",
    "                         .index\n",
    "        mask = df['Country/Region'].isin(country_list)\n",
    "    if analysis in ['Asia', 'Europe', 'North America', 'South America', 'Africa', 'Oceania']:\n",
    "        group = 'Country/Region'\n",
    "        country_list = df[df['continent']==analysis].groupby(by='Country/Region') \\\n",
    "                         .agg({'deaths':'max'}) \\\n",
    "                         .sort_values(by='deaths', ascending=False) \\\n",
    "                         .head(10) \\\n",
    "                         .index\n",
    "        mask = df['Country/Region'].isin(country_list)       \n",
    "\n",
    "    df_tmp = df[mask].groupby(by=['date', group]) \\\n",
    "               .agg({param: 'sum'}).reset_index() \\\n",
    "               .pivot(index='date', columns=group, values= param)\n",
    "    for var in df_tmp.columns:\n",
    "        df_tmp[var] = df_tmp[var].apply(lambda x: x if x>0 else 0)\n",
    "    \n",
    "    if plot_type == 'Area':\n",
    "        ax = df_tmp.plot(kind='area', grid=True)\n",
    "    if plot_type == 'Line':\n",
    "        ax = df_tmp.plot(kind='line', grid=True)\n",
    "\n",
    "    \n",
    "selection_plot = widgets.Dropdown(\n",
    "    options=['Area', 'Line'],\n",
    "    value='Area',\n",
    "    description='Plot type',\n",
    "    disabled=False,\n",
    ")\n",
    "\n",
    "selection_group = widgets.Dropdown(\n",
    "    options=['Continent', 'World', 'Asia', 'Europe', 'North America', 'South America', 'Africa', 'Oceania'],\n",
    "    value='Continent',\n",
    "    description='Analysis',\n",
    "    disabled=False,\n",
    ")\n",
    "\n",
    "options=['confirmed', 'confirmed_computed', 'deaths', 'confirmed_derive', 'confirmed_computed_derive', 'deaths_derive']\n",
    "\n",
    "selection_param = widgets.Dropdown(\n",
    "    options=options,\n",
    "    value=options[0],\n",
    "    description='Param',\n",
    "    disabled=False,\n",
    ")\n",
    "\n",
    "interact(plot_contagion_by_continent,\n",
    "         plot_type = selection_plot,\n",
    "         analysis = selection_group,\n",
    "         param=selection_param)"
   ]
  },
  {
   "cell_type": "markdown",
   "metadata": {},
   "source": [
    "### Confirmed, Deaths, Recovered and mortality by country"
   ]
  },
  {
   "cell_type": "code",
   "execution_count": 377,
   "metadata": {},
   "outputs": [
    {
     "data": {
      "application/vnd.jupyter.widget-view+json": {
       "model_id": "af269155dfb24bd68ad7a698cccbffea",
       "version_major": 2,
       "version_minor": 0
      },
      "text/plain": [
       "interactive(children=(Dropdown(description='Country', index=61, options=('Afghanistan', 'Albania', 'Algeria', …"
      ]
     },
     "metadata": {},
     "output_type": "display_data"
    },
    {
     "data": {
      "text/plain": [
       "<function __main__.plot_contagion_by_country(country, param_list)>"
      ]
     },
     "execution_count": 377,
     "metadata": {},
     "output_type": "execute_result"
    }
   ],
   "source": [
    "def plot_contagion_by_country(country, param_list):\n",
    "    mask = df['Country/Region'] == country\n",
    "    if 'mortality' in param_list:\n",
    "        param_list = list(param_list)\n",
    "        param_list.remove('mortality')\n",
    "        if param_list != []:\n",
    "            ax1 = df[mask].plot(x='date', y=list(param_list), grid=True)\n",
    "            ax1.legend(loc='upper left')\n",
    "            ax2 = ax1.twinx()\n",
    "            df[mask].plot(x='date', y=['mortality'], c='k', linestyle='--', ax=ax2)\n",
    "            ax2.legend(loc='upper right')\n",
    "        else:\n",
    "            ax1 = df[mask].plot(x='date', y='deaths', linewidth=0, grid=True)\n",
    "            ax1.legend().remove()\n",
    "            ax2 = ax1.twinx()\n",
    "            df[mask].plot(x='date', y=['mortality'], c='k', linestyle='--', ax=ax2)\n",
    "            ax2.legend(loc='upper right')\n",
    "    else:\n",
    "        param_list = list(param_list)\n",
    "        ax1 = df[mask].plot(x='date', y=list(param_list), grid=True)\n",
    "        ax1.legend(loc='upper left')\n",
    "\n",
    "\n",
    "selection_slider = widgets.Dropdown(\n",
    "    options=df['Country/Region'].unique(),\n",
    "    value='France',\n",
    "    description='Country',\n",
    "    disabled=False,\n",
    ")\n",
    "\n",
    "options=['confirmed', 'confirmed_computed', 'deaths', 'confirmed_derive', 'confirmed_computed_derive', 'deaths_derive', 'mortality']\n",
    "\n",
    "selection_list = widgets.SelectMultiple(\n",
    "    options=options,\n",
    "    value=['confirmed', 'deaths', 'mortality'],\n",
    "    description='Param',\n",
    "    rows=len(options),\n",
    "    disabled=False\n",
    ")\n",
    "\n",
    "interact(plot_contagion_by_country, country = selection_slider, param_list=selection_list)"
   ]
  },
  {
   "cell_type": "markdown",
   "metadata": {},
   "source": [
    "### Comparison of Confirmed, Deaths, Recovered and mortality between countries"
   ]
  },
  {
   "cell_type": "code",
   "execution_count": 378,
   "metadata": {},
   "outputs": [
    {
     "data": {
      "application/vnd.jupyter.widget-view+json": {
       "model_id": "d1b860aac3024540b9dc887ba006af01",
       "version_major": 2,
       "version_minor": 0
      },
      "text/plain": [
       "interactive(children=(Checkbox(value=False, description='Confinement date'), Dropdown(description='Paramx', op…"
      ]
     },
     "metadata": {},
     "output_type": "display_data"
    },
    {
     "data": {
      "text/plain": [
       "<function __main__.plot_compare_contagion(confinement_date, paramx, param1, param2, countries)>"
      ]
     },
     "execution_count": 378,
     "metadata": {},
     "output_type": "execute_result"
    }
   ],
   "source": [
    "def plot_compare_contagion(confinement_date, paramx, param1, param2, countries):\n",
    "    if paramx == 'date':\n",
    "        start_date = datetime.date.today() + datetime.timedelta(-60)\n",
    "        end_date = datetime.date.today()\n",
    "        xlim=(start_date, end_date)\n",
    "    if paramx == 'contagion_days':\n",
    "        xlim=(0, 60)\n",
    "    fig, ax = plt.subplots(nrows=2, ncols=1, sharex=True, figsize=(8, 6))\n",
    "    for country in countries:\n",
    "        mask = df['Country/Region'] == country\n",
    "        df[mask].plot(x=paramx, y=param1, label=country, xlim=xlim, grid=True, ax=ax[0])\n",
    "        df[mask].plot(x=paramx, y=param2, label=country, grid=True, ax=ax[1])\n",
    "        \n",
    "        if confinement_date:\n",
    "            \n",
    "            if paramx == 'date':\n",
    "                confinement_date = df[mask]['confinement'].min()\n",
    "                if type(confinement_date) is pd.Timestamp:\n",
    "                    ax[0].axvline(x=confinement_date, color=plt.gca().lines[-1].get_color(), linestyle='--')\n",
    "                    ax[1].axvline(x=confinement_date, color=plt.gca().lines[-1].get_color(), linestyle='--')\n",
    "\n",
    "            if paramx == 'contagion_days':\n",
    "                contagion_days_confinement = df[mask]['contagion_days_confinement'].min()\n",
    "                if not math.isnan(contagion_days_confinement):\n",
    "                    ax[0].axvline(x=contagion_days_confinement, color=plt.gca().lines[-1].get_color(), linestyle='--')\n",
    "                    ax[1].axvline(x=contagion_days_confinement, color=plt.gca().lines[-1].get_color(), linestyle='--')\n",
    "\n",
    "    handles, labels = ax[0].get_legend_handles_labels()\n",
    "    ax[0].legend().remove()\n",
    "    ax[1].legend().remove()\n",
    "    ax[0].set_ylabel(param1)\n",
    "    ax[1].set_ylabel(param2)\n",
    "    fig.legend(handles, labels, bbox_to_anchor=(1.3, 0.9))\n",
    "    plt.tight_layout()\n",
    "    \n",
    "selection_confinement = widgets.Checkbox(\n",
    "    value=False,\n",
    "    description='Confinement date',\n",
    "    indent=True\n",
    ")\n",
    "\n",
    "selection_param_x = widgets.Dropdown(\n",
    "    options=['date', 'contagion_days'],\n",
    "    value='date',\n",
    "    description='Paramx',\n",
    "    disabled=False,\n",
    ")\n",
    "\n",
    "options=['confirmed', 'confirmed_computed', 'deaths', 'confirmed_derive', 'confirmed_computed_derive', 'deaths_derive']\n",
    "\n",
    "selection_param_1 = widgets.Dropdown(\n",
    "    options=options,\n",
    "    value=options[0],\n",
    "    description='Param1',\n",
    "    disabled=False,\n",
    ")\n",
    "\n",
    "selection_param_2 = widgets.Dropdown(\n",
    "    options=options,\n",
    "    value=options[2],\n",
    "    description='Param2',\n",
    "    disabled=False,\n",
    ")\n",
    "\n",
    "selection_list = widgets.SelectMultiple(\n",
    "    options=df['Country/Region'].unique(),\n",
    "    value=list(patient_zero),\n",
    "    description='Countries',\n",
    "    rows=10,\n",
    "    disabled=False\n",
    ")\n",
    "\n",
    "interact(plot_compare_contagion,\n",
    "         confinement_date=selection_confinement,\n",
    "         paramx=selection_param_x,\n",
    "         param1=selection_param_1,\n",
    "         param2=selection_param_2,\n",
    "         countries = selection_list)\n"
   ]
  },
  {
   "cell_type": "markdown",
   "metadata": {},
   "source": [
    "### Model"
   ]
  },
  {
   "cell_type": "code",
   "execution_count": 379,
   "metadata": {},
   "outputs": [
    {
     "data": {
      "application/vnd.jupyter.widget-view+json": {
       "model_id": "4c7ef280455d4684a7cfdb792d2ebe21",
       "version_major": 2,
       "version_minor": 0
      },
      "text/plain": [
       "interactive(children=(Dropdown(description='Country', index=5, options=('Austria', 'Belgium', 'Brazil', 'China…"
      ]
     },
     "metadata": {},
     "output_type": "display_data"
    },
    {
     "data": {
      "text/plain": [
       "<function __main__.plot_with_model(country, m1, m2, delta_days)>"
      ]
     },
     "execution_count": 379,
     "metadata": {},
     "output_type": "execute_result"
    }
   ],
   "source": [
    "def plot_with_model(country, m1, m2, delta_days):\n",
    "    n=3\n",
    "    patient_zero_date=patient_zero[country]\n",
    "    if country in confinement:\n",
    "        confinement_date=confinement[country]\n",
    "    periods=60/n\n",
    "\n",
    "    df_tmp=pd.DataFrame()\n",
    "    df_tmp['date'] = pd.date_range(patient_zero_date, periods=periods, freq='{}d'.format(n))\n",
    "\n",
    "    df_tmp.loc[0, 'confirmed_model'] = 300\n",
    "    df_tmp.loc[0, 'confirmed_model_with_confinement'] = 300\n",
    "    df_tmp.loc[1, 'confirmed_model'] = 600\n",
    "    df_tmp.loc[1, 'confirmed_model_with_confinement'] = 600\n",
    "\n",
    "    for i in range(2, len(df_tmp)):\n",
    "        df_tmp.loc[i, 'confirmed_model'] = (df_tmp.loc[i-1, 'confirmed_model'] - df_tmp.loc[i-2, 'confirmed_model'])* m1 + df_tmp.loc[i-1, 'confirmed_model']\n",
    "        if country in confinement: \n",
    "            if df_tmp.loc[i, 'date']<confinement_date + datetime.timedelta(delta_days):\n",
    "                df_tmp.loc[i, 'confirmed_model_with_confinement'] = (df_tmp.loc[i-1, 'confirmed_model_with_confinement'] - df_tmp.loc[i-2, 'confirmed_model_with_confinement']) * m1 + df_tmp.loc[i-1, 'confirmed_model_with_confinement']\n",
    "            else:\n",
    "                df_tmp.loc[i, 'confirmed_model_with_confinement'] = (df_tmp.loc[i-1, 'confirmed_model_with_confinement'] - df_tmp.loc[i-2, 'confirmed_model_with_confinement']) * m2 + df_tmp.loc[i-1, 'confirmed_model_with_confinement']\n",
    "\n",
    "    df_tmp['deaths_model'] = df_tmp['confirmed_model'].shift(2)*0.01\n",
    "    df_tmp['deaths_model_with_confinement'] = df_tmp['confirmed_model_with_confinement'].shift(2)*0.01\n",
    "\n",
    "    mask = df['Country/Region'] == country\n",
    "    fig, ax = plt.subplots(nrows=2, ncols=1, sharex=True, figsize=(8, 6))\n",
    "    df[mask].plot(x='date', y=['confirmed', 'confirmed_computed'], grid=True, ax=ax[0])\n",
    "    df_tmp.plot(kind='line',\n",
    "                 x='date',\n",
    "                 y=['confirmed_model', 'confirmed_model_with_confinement'],\n",
    "                 grid=True, ax=ax[0])\n",
    "    ax[0].set_ylim(0, 1.5*df[mask]['confirmed_computed'].max())\n",
    "    \n",
    "    df[mask].plot(x='date', y='deaths', grid=True, ax=ax[1])\n",
    "    df_tmp.plot(kind='line',\n",
    "                 x='date',\n",
    "                 y=['deaths_model', 'deaths_model_with_confinement'],\n",
    "                 grid=True, ax=ax[1])\n",
    "    ax[1].set_ylim(0, 1.5*df[mask]['deaths'].max())\n",
    "\n",
    "options = list(patient_zero)\n",
    "options.sort()\n",
    "    \n",
    "selection_slider = widgets.Dropdown(\n",
    "    options=options,\n",
    "    value='France',\n",
    "    description='Country',\n",
    "    disabled=False,\n",
    ")\n",
    "\n",
    "selection_slider_m1 = widgets.FloatSlider(\n",
    "    value=2.0,\n",
    "    min=1.0,\n",
    "    max=3.0,\n",
    "    step=0.1,\n",
    "    description='R0 before confinement:',\n",
    "    layout={'width': '400px'},\n",
    "    style = {'description_width': 'initial'}\n",
    ")\n",
    "\n",
    "selection_slider_m2 = widgets.FloatSlider(\n",
    "    value=1.3,\n",
    "    min=1.0,\n",
    "    max=3.0,\n",
    "    step=0.1,\n",
    "    description='R0 after confinement:',\n",
    "    layout={'width': '400px'},\n",
    "    style = {'description_width': 'initial'}, \n",
    ")\n",
    "\n",
    "selection_slider_delta_days = widgets.IntSlider(\n",
    "    value=6,\n",
    "    min=0,\n",
    "    max=15,\n",
    "    step=3,\n",
    "    description='confinement delay:',\n",
    "    layout={'width': '400px'},\n",
    "    style = {'description_width': 'initial'},\n",
    ")\n",
    "\n",
    "interact(plot_with_model,\n",
    "         country=selection_slider,\n",
    "         m1=selection_slider_m1,\n",
    "         m2=selection_slider_m2,\n",
    "         delta_days=selection_slider_delta_days,\n",
    "        )\n"
   ]
  },
  {
   "cell_type": "code",
   "execution_count": null,
   "metadata": {},
   "outputs": [],
   "source": []
  },
  {
   "cell_type": "code",
   "execution_count": null,
   "metadata": {},
   "outputs": [],
   "source": []
  }
 ],
 "metadata": {
  "kernelspec": {
   "display_name": "Python 3",
   "language": "python",
   "name": "python3"
  },
  "language_info": {
   "codemirror_mode": {
    "name": "ipython",
    "version": 3
   },
   "file_extension": ".py",
   "mimetype": "text/x-python",
   "name": "python",
   "nbconvert_exporter": "python",
   "pygments_lexer": "ipython3",
   "version": "3.7.7"
  }
 },
 "nbformat": 4,
 "nbformat_minor": 2
}
